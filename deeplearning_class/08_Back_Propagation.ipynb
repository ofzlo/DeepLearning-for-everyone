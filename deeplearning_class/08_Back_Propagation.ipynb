{
 "cells": [
  {
   "attachments": {},
   "cell_type": "markdown",
   "id": "b123aea5",
   "metadata": {},
   "source": [
    "### 8장 오차 역전파\n",
    "\n",
    "**1. 오차 역전파의 개념**\n",
    "- **```오차역전파(Back Propagation)```**: 다층 퍼셉트론에서의 최적화 과정  \n",
    "\n",
    "\n",
    "<img src=\"https://img1.daumcdn.net/thumb/R1280x0/?scode=mtistory2&fname=https%3A%2F%2Fblog.kakaocdn.net%2Fdn%2FbRGh4z%2FbtqEKPZg0JG%2FSK9okw4tyCJP3dhsk0h4Q1%2Fimg.png\" width=\"400\" align=\"left\">\n",
    "\n",
    "\n",
    "**1** | 임의의 초기 가중치($W$)를 준 뒤 결과($y_{out}$)를 계산한다.  \n",
    "**2** | 계산 결과와 우리가 원하는 값 사이의 오차를 구한다.  \n",
    "**3** | 경사 하강법을 이용해 바로 앞 가중치를 오차가 작아지는 방향으로 업데이트한다.  \n",
    "**4** | 위 과정을 더이상 오차가 줄어들지 않을 때까지 반복한다.  \n",
    "- ``기울기가 0이 되는 방향``으로 나아가는 것  \n",
    "    → **```(가중치) - (기울기)```** 일때 **```가중치```** 변화가 없는 것   \n",
    "    → $W(t+1)=W_t - \\frac{\\sigma 오차}{\\sigma W}$\n",
    "\n",
    "#  \n",
    "#  \n",
    "#  \n",
    "#  \n",
    "#  \n",
    "**2. 코딩으로 확인하는 오차 역전파**  \n",
    "<img src=\"https://img1.daumcdn.net/thumb/R1280x0/?scode=mtistory2&fname=https%3A%2F%2Fblog.kakaocdn.net%2Fdn%2FGSPV2%2FbtqEITBXgdA%2FmGSTKwbx0LxcHEewj3bWy0%2Fimg.png\" width=\"400\" align=\"left\">  \n",
    "\n",
    "**1** | **환경 변수 지정**: 입력 및 타깃 결괏값이 포함된 데이터셋, 학습률, 활성화 함수, 가중치 등 선언  \n",
    "**2** | **신경망 실행**: 초깃값을 입력하여 활성화 함수와 가중치를 걸쳐 결괏값이 나오게 함.  \n",
    "**3** | **결과를 실제 값과 비교**: 오차 측정  \n",
    "**4** | **역전파 실행**: 출력층과 은닉층의 가중치를 수정   \n",
    "**5** | **결과 출력**"
   ]
  },
  {
   "cell_type": "code",
   "execution_count": null,
   "id": "d98d6c5d",
   "metadata": {},
   "outputs": [],
   "source": []
  }
 ],
 "metadata": {
  "kernelspec": {
   "display_name": "Python 3 (ipykernel)",
   "language": "python",
   "name": "python3"
  },
  "language_info": {
   "codemirror_mode": {
    "name": "ipython",
    "version": 3
   },
   "file_extension": ".py",
   "mimetype": "text/x-python",
   "name": "python",
   "nbconvert_exporter": "python",
   "pygments_lexer": "ipython3",
   "version": "3.7.11"
  }
 },
 "nbformat": 4,
 "nbformat_minor": 5
}
