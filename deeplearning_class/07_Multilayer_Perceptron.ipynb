{
 "cells": [
  {
   "cell_type": "markdown",
   "id": "5a17faeb",
   "metadata": {},
   "source": [
    "### 7장 다층 퍼셉트론\n",
    "\n",
    "**1. 다층 퍼셉트론의 설계**  \n",
    "<img src=\"https://img1.daumcdn.net/thumb/R1280x0/?scode=mtistory2&fname=https%3A%2F%2Fblog.kakaocdn.net%2Fdn%2FyAbTL%2Fbtq2hDXqY8u%2FfRS5fDCadoppY3OT1C71M1%2Fimg.jpg\" width=\"300px\" align=\"left\">  \n",
    "\n",
    "- 가운데 숨어있는 은닉층으로 퍼셉트론이 각각 자신의 가중치($w$)와 바이어스($b$) 값을 보내고,   \n",
    "    은닉층에서 모인 값이 한 번 더 시그모이드 함수를 이용해 최종 값으로 결과를 보냄\n",
    "- $n_1 = \\sigma (x_1 w_11 + x_2 w_21 + b_1)$   \n",
    "    $n_2 = \\sigma (x_1 w_12 + x_2 w_22 + b_2)$\n",
    "- $y_{out} = \\sigma (n_1 w_31 + n_2 w_32 + b_3)$\n",
    "- $\\begin{pmatrix} x & y \\\\ z & v \\end{pmatrix}$"
   ]
  }
 ],
 "metadata": {
  "kernelspec": {
   "display_name": "Python 3 (ipykernel)",
   "language": "python",
   "name": "python3"
  },
  "language_info": {
   "codemirror_mode": {
    "name": "ipython",
    "version": 3
   },
   "file_extension": ".py",
   "mimetype": "text/x-python",
   "name": "python",
   "nbconvert_exporter": "python",
   "pygments_lexer": "ipython3",
   "version": "3.7.11"
  }
 },
 "nbformat": 4,
 "nbformat_minor": 5
}
