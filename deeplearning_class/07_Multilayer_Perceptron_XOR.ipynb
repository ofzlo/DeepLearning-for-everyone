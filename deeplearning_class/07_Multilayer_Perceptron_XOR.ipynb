{
 "cells": [
  {
   "cell_type": "markdown",
   "id": "4405d6cd",
   "metadata": {},
   "source": [
    "### 7장 다층 퍼셉트론\n",
    "\n",
    "**1. 다층 퍼셉트론의 설계**  \n",
    "<img src=\"https://img1.daumcdn.net/thumb/R1280x0/?scode=mtistory2&fname=https%3A%2F%2Fblog.kakaocdn.net%2Fdn%2FyAbTL%2Fbtq2hDXqY8u%2FfRS5fDCadoppY3OT1C71M1%2Fimg.jpg\" width=\"300px\" align=\"left\">\n",
    "\n",
    "\n",
    "\n",
    "- 가운데 숨어있는 은닉층으로 퍼셉트론이 각각 자신의 가중치($w$)와 바이어스($b$) 값을 보내고,   \n",
    "    은닉층에서 모인 값이 한 번 더 시그모이드 함수를 이용해 최종 값으로 결과를 보냄\n",
    "- $n_1 = \\sigma (x_1 w_{11} + x_2 w_{21} + b_1)$   \n",
    "    $n_2 = \\sigma (x_1 w_{12} + x_2 w_{22} + b_2)$\n",
    "- $y_{out} = \\sigma (n_1 w_{31} + n_2 w_{32} + b_3)$\n",
    "- $W(1) = \\begin{pmatrix} w_{11} & w_{12} \\\\ w_{21} & w_{22} \\end{pmatrix} B(1) = \\begin{pmatrix} b_1 \\\\ b_2 \\end{pmatrix}$  \n",
    "    $W(2) = \\begin{pmatrix} w_{31} \\\\ w_{32} & w_{22} \\end{pmatrix} B(2) = \\begin{pmatrix} b_3 \\end{pmatrix}$"
   ]
  },
  {
   "cell_type": "markdown",
   "id": "73ef43d1",
   "metadata": {},
   "source": [
    "### 다층 퍼셉트론으로 XOR 문제 해결하기"
   ]
  },
  {
   "cell_type": "code",
   "execution_count": 1,
   "id": "236c658b",
   "metadata": {},
   "outputs": [],
   "source": [
    "import numpy as np"
   ]
  },
  {
   "cell_type": "code",
   "execution_count": 2,
   "id": "7bef91ef",
   "metadata": {},
   "outputs": [],
   "source": [
    "# 가중치와 바이어스\n",
    "w11 = np.array([-2, -2])\n",
    "w12 = np.array([2, 2])\n",
    "w2  = np.array([1, 1])\n",
    "b1  = 3\n",
    "b2  = -1\n",
    "b3  = -1"
   ]
  },
  {
   "cell_type": "code",
   "execution_count": 3,
   "id": "2985485f",
   "metadata": {},
   "outputs": [],
   "source": [
    "# 퍼셉트론\n",
    "def MLP(x, w, b):\n",
    "    y = np.sum(w * x) + b\n",
    "    if y <= 0:\n",
    "        return 0\n",
    "    else:\n",
    "        return 1"
   ]
  },
  {
   "cell_type": "code",
   "execution_count": 4,
   "id": "19b1addd",
   "metadata": {},
   "outputs": [],
   "source": [
    "# NAND 게이트\n",
    "def NAND(x1, x2):\n",
    "    return MLP(np.array([x1, x2]), w11, b1)\n",
    "\n",
    "# OR 게이트\n",
    "def OR(x1, x2):\n",
    "    return MLP(np.array([x1, x2]), w12, b2)\n",
    "\n",
    "# AND 게이트\n",
    "def AND(x1, x2):\n",
    "    return MLP(np.array([x1, x2]), w2, b3)\n",
    "\n",
    "# XOR 게이트\n",
    "def XOR(x1, x2):\n",
    "    return AND(NAND(x1, x2), OR(x1, x2))"
   ]
  },
  {
   "cell_type": "code",
   "execution_count": 6,
   "id": "693c8fcb",
   "metadata": {},
   "outputs": [
    {
     "name": "stdout",
     "output_type": "stream",
     "text": [
      "입력값: (0, 0) 출력값: 0\n",
      "입력값: (1, 0) 출력값: 1\n",
      "입력값: (0, 1) 출력값: 1\n",
      "입력값: (1, 1) 출력값: 0\n"
     ]
    }
   ],
   "source": [
    "# x1, x2 값을 번갈아 대입하며 최종값 출력\n",
    "if __name__ == '__main__':\n",
    "    for x in [(0, 0), (1, 0), (0, 1), (1, 1)]:\n",
    "        y = XOR(x[0], x[1])\n",
    "        print(\"입력값: \" + str(x) + \" 출력값: \" + str(y))"
   ]
  }
 ],
 "metadata": {
  "kernelspec": {
   "display_name": "Python 3 (ipykernel)",
   "language": "python",
   "name": "python3"
  },
  "language_info": {
   "codemirror_mode": {
    "name": "ipython",
    "version": 3
   },
   "file_extension": ".py",
   "mimetype": "text/x-python",
   "name": "python",
   "nbconvert_exporter": "python",
   "pygments_lexer": "ipython3",
   "version": "3.7.11"
  }
 },
 "nbformat": 4,
 "nbformat_minor": 5
}
