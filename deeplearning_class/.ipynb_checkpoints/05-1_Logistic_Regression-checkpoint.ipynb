{
 "cells": [
  {
   "cell_type": "markdown",
   "id": "7d929870",
   "metadata": {},
   "source": [
    "### 5장 참 거짓 판단 장치: 로지스틱 회귀(Logistic Regression)\n",
    "\n",
    "**1. 로지스틱 회귀의 정의**  \n",
    "- 참(1)과 거짓(0) 사이를 구분하는 S자 형태의 선을 그어 주는 직선  \n",
    "\n",
    "**2. 시그모이드 함수(Sigmoid Function)**  \n",
    "$y = \\frac{1}{1+e^{-(ax+b)}}$\n",
    "- $a$: 그래프의 경사도 결정\n",
    "    - a 값이 작아지면 오차는 무한대로 커짐.  \n",
    "        but 커진다고해서 오차가 무한대로 커지지 x\n",
    "- $b$: 그래프의 좌우 이동\n",
    "    - b 값이 크거나 작을 경우 오차는 2차 함수 그래프와 유사한 형태\n",
    "    \n",
    "**3. 오차 공식**\n",
    "- 시그모이드 함수의 a, b값 구하기 -> ```경사하강법```\n",
    "- 시그모이드 함수의 특징\n",
    "    - $y$값이 0과 1 사이\n",
    "    - 로그함수로 오차 공식화\n",
    "\n",
    "**4. 로그 함수**   \n",
    "$-{y_{data} \\log h+(1-y_{data} \\log(1-h)}$"
   ]
  },
  {
   "cell_type": "markdown",
   "id": "fa16ae79",
   "metadata": {},
   "source": [
    "**5. 코딩으로 확인하는 로지스틱 회귀**\n",
    "- 오차함수  \n",
    "    $-\\frac{1}{n}\\sum y \\log h + (1-y)\\log(1-h)$"
   ]
  },
  {
   "cell_type": "code",
   "execution_count": 1,
   "id": "51be7a75",
   "metadata": {},
   "outputs": [],
   "source": [
    "import numpy as np\n",
    "import pandas as pd\n",
    "import matplotlib.pyplot as plt"
   ]
  },
  {
   "cell_type": "code",
   "execution_count": 2,
   "id": "9889a955",
   "metadata": {},
   "outputs": [],
   "source": [
    "# 공부 시간 X와 합격 여부 Y의 리스트 만들기\n",
    "data = [[2, 0], [4, 0], [6, 0], [8, 1], [10, 1], [12, 1], [14, 1]]\n",
    "\n",
    "x_data = [i[0] for i in data]\n",
    "y_data = [i[1] for i in data]"
   ]
  },
  {
   "cell_type": "code",
   "execution_count": 3,
   "id": "4bb370ed",
   "metadata": {},
   "outputs": [
    {
     "data": {
      "text/plain": [
       "(-0.1, 1.1)"
      ]
     },
     "execution_count": 3,
     "metadata": {},
     "output_type": "execute_result"
    },
    {
     "data": {
      "image/png": "[encoded data removed]",
      "text/plain": [
       "<Figure size 432x288 with 1 Axes>"
      ]
     },
     "metadata": {
      "needs_background": "light"
     },
     "output_type": "display_data"
    }
   ],
   "source": [
    "# 그래프로 나타내기\n",
    "plt.scatter(x_data, y_data)\n",
    "plt.xlim(0, 15)\n",
    "plt.ylim(-.1, 1.1)"
   ]
  },
  {
   "cell_type": "code",
   "execution_count": 4,
   "id": "46298648",
   "metadata": {},
   "outputs": [],
   "source": [
    "# 기울기 a와 절편 b의 값 초기화\n",
    "a = 0\n",
    "b = 0"
   ]
  },
  {
   "cell_type": "code",
   "execution_count": 5,
   "id": "feb0d3fb",
   "metadata": {},
   "outputs": [],
   "source": [
    "# 학습률\n",
    "lr = 0.05"
   ]
  },
  {
   "cell_type": "code",
   "execution_count": 6,
   "id": "77c87567",
   "metadata": {},
   "outputs": [],
   "source": [
    "# 시그모이드 함수 정의\n",
    "def sigmoid(x):\n",
    "    return 1 / (1 + np.e ** (-x))"
   ]
  },
  {
   "cell_type": "code",
   "execution_count": 7,
   "id": "1ee3a2ee",
   "metadata": {},
   "outputs": [
    {
     "name": "stdout",
     "output_type": "stream",
     "text": [
      "epoch=0, 기울기=-0.0500, 절편=-0.0250\n",
      "epoch=0, 기울기=-0.1388, 절편=-0.0472\n",
      "epoch=0, 기울기=-0.2268, 절편=-0.0619\n",
      "epoch=0, 기울기=0.1201, 절편=-0.0185\n",
      "epoch=0, 기울기=0.2374, 절편=-0.0068\n",
      "epoch=0, 기울기=0.2705, 절편=-0.0040\n",
      "epoch=0, 기울기=0.2860, 절편=-0.0029\n",
      "epoch=1000, 기울기=1.4978, 절편=-9.9401\n",
      "epoch=1000, 기울기=1.4940, 절편=-9.9411\n",
      "epoch=1000, 기울기=1.4120, 절편=-9.9547\n",
      "epoch=1000, 기울기=1.4949, 절편=-9.9444\n",
      "epoch=1000, 기울기=1.4982, 절편=-9.9440\n",
      "epoch=1000, 기울기=1.4984, 절편=-9.9440\n",
      "epoch=1000, 기울기=1.4985, 절편=-9.9440\n",
      "epoch=2000, 기울기=1.9065, 절편=-12.9489\n",
      "epoch=2000, 기울기=1.9055, 절편=-12.9491\n",
      "epoch=2000, 기울기=1.8515, 절편=-12.9581\n",
      "epoch=2000, 기울기=1.9057, 절편=-12.9514\n",
      "epoch=2000, 기울기=1.9068, 절편=-12.9513\n",
      "epoch=2000, 기울기=1.9068, 절편=-12.9513\n",
      "epoch=2000, 기울기=1.9068, 절편=-12.9513\n"
     ]
    }
   ],
   "source": [
    "# 경사하강법 실행\n",
    "# 1,000번 밥녹될 때마다 각 x_data 값에 대한 현재의 a 값, b 값 출력\n",
    "for i in range(2001):\n",
    "    for x_data, y_data in data:\n",
    "        a_diff = x_data * (sigmoid(a * x_data + b) - y_data)\n",
    "        b_diff = sigmoid(a * x_data + b) - y_data\n",
    "        a = a - lr * a_diff\n",
    "        b = b - lr * b_diff\n",
    "        if i % 1000 == 0:\n",
    "            print(\"epoch=%.f, 기울기=%.04f, 절편=%.04f\" % (i, a, b))"
   ]
  },
  {
   "cell_type": "code",
   "execution_count": 13,
   "id": "4ecb6d22",
   "metadata": {},
   "outputs": [
    {
     "data": {
      "image/png": "[encoded data removed]",
      "text/plain": [
       "<Figure size 432x288 with 1 Axes>"
      ]
     },
     "metadata": {
      "needs_background": "light"
     },
     "output_type": "display_data"
    }
   ],
   "source": [
    "# 앞서 구한 기울기와 절편을 이용해 그래프 그리기\n",
    "x_data = [i[0] for i in data]\n",
    "y_data = [i[1] for i in data]\n",
    "\n",
    "plt.scatter(x_data, y_data)\n",
    "plt.xlim(0, 15)\n",
    "plt.ylim(-.1, 1.1)\n",
    "x_range = (np.arange(0, 15, 0.1))  # 그래프로 나타낼 x 값의 범위 정하기\n",
    "plt.plot(np.arange(0, 15, 0.1), np.array([sigmoid(a*x + b) for x in x_range]))\n",
    "plt.show()"
   ]
  }
 ],
 "metadata": {
  "kernelspec": {
   "display_name": "Python 3 (ipykernel)",
   "language": "python",
   "name": "python3"
  },
  "language_info": {
   "codemirror_mode": {
    "name": "ipython",
    "version": 3
   },
   "file_extension": ".py",
   "mimetype": "text/x-python",
   "name": "python",
   "nbconvert_exporter": "python",
   "pygments_lexer": "ipython3",
   "version": "3.7.11"
  }
 },
 "nbformat": 4,
 "nbformat_minor": 5
}
