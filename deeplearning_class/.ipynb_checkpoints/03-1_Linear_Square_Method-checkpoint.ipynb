{
 "cells": [
  {
   "cell_type": "markdown",
   "id": "21eeb203",
   "metadata": {},
   "source": [
    "### 3장 가장 훌륭한 예측선 긋기: 선형회귀\n",
    "\n",
    "**1. 선형 회귀의 정의**   \n",
    "선형회귀: 독립 변수 x를 사용해 종속 변수 y의 움직임을 예측하고 설명하는 작업. 즉, **정확한 직선**을 그려내는 과정   \n",
    "- ```단순 선형 회귀(simple linear regression)```: 하나의 x값만으로도 y값을 설명할 수 있을 때\n",
    "- ```다중 선형 회귀(multiple linear regression)```: x의 값이 여러개 필요할 때   \n",
    "\n",
    "\n",
    "\n",
    "**2. 가장 훌륭한 예측선이란?**   \n",
    "$y=ax+b$에서 최적의 a값과 b값을 찾아내는 작업   \n",
    "\n",
    "\n",
    "\n",
    "**3. 최소 제곱법(Method of Least Squares)**   \n",
    "**기울기 a 공식**: $a= \\frac{\\sum (x-\\overline{x})(y-\\overline{y})}{\\sum (x-\\overline{x})^2}$  \n",
    "**b 공식**: $b= \\overline{y} - (\\overline{x} \\times a)$  "
   ]
  },
  {
   "cell_type": "markdown",
   "id": "9a7195fb",
   "metadata": {},
   "source": [
    "### **선형 회귀 실습**"
   ]
  },
  {
   "cell_type": "code",
   "execution_count": 1,
   "id": "31044d5d",
   "metadata": {},
   "outputs": [],
   "source": [
    "import numpy as np"
   ]
  },
  {
   "cell_type": "code",
   "execution_count": 2,
   "id": "8191255e",
   "metadata": {},
   "outputs": [],
   "source": [
    "# x값과 y값\n",
    "x = [2, 4, 6, 8]\n",
    "y = [81, 93, 91, 97]"
   ]
  },
  {
   "cell_type": "code",
   "execution_count": 3,
   "id": "82aed4fd",
   "metadata": {},
   "outputs": [
    {
     "name": "stdout",
     "output_type": "stream",
     "text": [
      "x의 평균값: 5.0\n",
      "y의 평균값: 90.5\n"
     ]
    }
   ],
   "source": [
    "# x와 y의 평균값\n",
    "mx = np.mean(x)\n",
    "my = np.mean(y)\n",
    "print(\"x의 평균값:\", mx)\n",
    "print(\"y의 평균값:\", my)"
   ]
  },
  {
   "cell_type": "code",
   "execution_count": 5,
   "id": "04ba6b9d",
   "metadata": {},
   "outputs": [
    {
     "name": "stdout",
     "output_type": "stream",
     "text": [
      "분모: 20.0\n",
      "분자: 46.0\n"
     ]
    }
   ],
   "source": [
    "# 기울기 공식의 분모\n",
    "divisor = sum([(mx-i)**2 for i in x])\n",
    "\n",
    "# 기울기 공식의 분자\n",
    "def top(x, mx, y, my):\n",
    "    d = 0\n",
    "    for i in range(len(x)):\n",
    "        d += (x[i] - mx) * (y[i] - my)\n",
    "    return d\n",
    "dividend = top(x, mx, y, my)\n",
    "\n",
    "print(\"분모:\", divisor)\n",
    "print(\"분자:\", dividend)"
   ]
  },
  {
   "cell_type": "code",
   "execution_count": 6,
   "id": "64944d14",
   "metadata": {},
   "outputs": [],
   "source": [
    "# 기울기와 y 절편 구하기\n",
    "a = dividend / divisor\n",
    "b = my - (mx*a)"
   ]
  },
  {
   "cell_type": "code",
   "execution_count": 7,
   "id": "14988b0b",
   "metadata": {},
   "outputs": [
    {
     "name": "stdout",
     "output_type": "stream",
     "text": [
      "기울기 a = 2.3\n",
      "y절편 b = 79.0\n"
     ]
    }
   ],
   "source": [
    "# 출력으로 확인\n",
    "print(\"기울기 a =\", a)\n",
    "print(\"y절편 b =\", b)"
   ]
  }
 ],
 "metadata": {
  "kernelspec": {
   "display_name": "Python 3 (ipykernel)",
   "language": "python",
   "name": "python3"
  },
  "language_info": {
   "codemirror_mode": {
    "name": "ipython",
    "version": 3
   },
   "file_extension": ".py",
   "mimetype": "text/x-python",
   "name": "python",
   "nbconvert_exporter": "python",
   "pygments_lexer": "ipython3",
   "version": "3.7.11"
  }
 },
 "nbformat": 4,
 "nbformat_minor": 5
}
