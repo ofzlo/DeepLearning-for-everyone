{
 "cells": [
  {
   "cell_type": "markdown",
   "id": "3ef5b7d6",
   "metadata": {},
   "source": [
    "### 6장 퍼셉트론\n",
    "\n",
    "**```퍼셉트론(perceptron)```**\n",
    "- 신경망을 이루는 가장 중요한 기본 단위\n",
    "- **입력 값과 활성화 함수를 사용해 출력 값을 다음으로 넘기는 가장 작은 신경망 단위**\n",
    "\n",
    "**1. 가중치, 가중합, 바이어스, 활성화 함수**\n",
    "- $y=ax+b$ ($a$는 기울기, $b$는 $y$절편)   \n",
    "    -> $y=wx+b$ ($w$는 ```가중치```, $b$는 ```바이어스```)   \n",
    "    - 기울기 $a$ = **가중치**를 의미하는 $w$(weight)로 표기\n",
    "    - $y$절편 $b$ = **바이어스**\n",
    "    - **가중합(weighted sum)**: $\\sum xw + b$ ($x: 입력값, w: 가중치, b: 바이어스$)\n",
    "    - **활성화 함수(activation function)**: 가중합 결과를 놓고 0과 1을 판단하는 함수\n",
    "    \n",
    "**2. 퍼셉트론의 과제**\n",
    "- 경우에 따라서 선을 아무리 그어도 해결되지 않는 상황\n",
    "\n",
    "**3. XOR 문제**\n",
    "- 퍼셉트론의 한계\n",
    "- 해결방법: **```다층 퍼셉트론(Multilayer Perceptron)```**"
   ]
  }
 ],
 "metadata": {
  "kernelspec": {
   "display_name": "Python 3 (ipykernel)",
   "language": "python",
   "name": "python3"
  },
  "language_info": {
   "codemirror_mode": {
    "name": "ipython",
    "version": 3
   },
   "file_extension": ".py",
   "mimetype": "text/x-python",
   "name": "python",
   "nbconvert_exporter": "python",
   "pygments_lexer": "ipython3",
   "version": "3.7.11"
  }
 },
 "nbformat": 4,
 "nbformat_minor": 5
}
