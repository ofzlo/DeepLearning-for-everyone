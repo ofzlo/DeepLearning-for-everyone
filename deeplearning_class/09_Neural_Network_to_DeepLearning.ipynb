{
 "cells": [
  {
   "cell_type": "markdown",
   "id": "26d2af54",
   "metadata": {},
   "source": [
    "### 9장 신경망에서 딥러닝으로\n",
    "\n",
    "**1. 기울기 소실 문제와 활성화 함수**\n",
    "- ```오차역전파```: 출력츠으로부터 하나씩 앞으로 되돌앙가며 각 층의 가중치를 수정하는 방법\n",
    "    - 기울기 소실(vanishing gradient, 층↑ 역전파로 전달하는 기울기 값 점점↓ 맨 처음 층까지 전달X) 문제 발생\n",
    "    - 원인: 시그모이드 함수의 특성 → 미분시 최대치 0.3, 곱하다 보면 0에 가까워짐\n",
    "　　　　<img src=\"https://mblogthumb-phinf.pstatic.net/MjAyMDA1MjBfNyAg/MDAxNTg5OTc0NTE2MTI2.zsxzGjKgDsCZOm-aRb-0FAjobB7k7W-OZYqJsyMLe7gg.SRBwUSy_ydVCduIKFYghlO0yUv1Z-3lNogFyDWHyeQEg.PNG.askif2/image.png?type=w800\" width=\"500\" align=\"left\">  \n",
    "#  \n",
    "#  \n",
    "#  \n",
    "#    \n",
    "######  \n",
    "    - 해결: 시그모이드 외의 여러 함수로 대체  \n",
    "　　　　<img src=\"https://mblogthumb-phinf.pstatic.net/MjAyMDA1MjBfMTcg/MDAxNTg5OTc0NjQyMzEw.XbHl-7t26Xu61BAeLd6hXbi--o15QOgY8SvBhEP9Y-gg.nIlfJD4t7iSmKEJazmT3s86Lh27qR0c6VoyT8UGnn44g.PNG.askif2/image.png?type=w800\" width=\"500\" align=\"left\">  \n",
    "#  \n",
    "#  \n",
    "#  \n",
    "#    \n",
    "#  \n",
    "        - **```하이퍼볼릭 탄젠트 함수(tanh)```**\n",
    "            - 미분한 값의 범위가 함께 확장\n",
    "            - 여전히 1보다 작은 값이 존재 → 기울기 소실 문제 사라지지X\n",
    "        - **```렐루(ReLU)```**\n",
    "            - $x > 0$; 미분값 = 1\n",
    "            - 맨 처음 층까지 사라지지 않고 남아있을 수 O\n",
    "        - **```소프트플러스(softplus)```**\n",
    "            - ReLU의 0이 되는 순간 완화\n",
    "\n",
    "**2. 속도와 정확도 문제를 해결하는 고급 경사 하강법**\n",
    "- 경사하강법: 정확하게 가중치를 찾아감,   \n",
    "    but 매 업데이트시 전체 데이터 미분 → 계산량多   \n",
    "    → 보완: 고급 경사 하강법   \n",
    "    \n",
    "- **확률적 경사 하강법(Stochastic Gradient Descent, SGD)**\n",
    "    - 랜덤하게 추출한 **일부 데이터** 사용\n",
    "    - 속도면에서 우수함.\n",
    "    - <img src=\"https://thebook.io/img/080228/123.jpg\" width=\"500\" align=\"left\">   \n",
    "\n",
    "#   \n",
    "#   \n",
    "#   \n",
    "######   \n",
    "\n",
    "- **모멘텀(Momentum)**\n",
    "    - 경사하강법 + 탄력\n",
    "    - 오차를 수정하기 전 바로 앞 수정 값과 방향(+,-)을 참고하여   \n",
    "        같은 방향으로 일정 비율만 수정\n",
    "    - <img src=\"https://thebook.io/img/080228/124.jpg\" width=\"500\" align=\"left\">     \n",
    "\n",
    "#   \n",
    "#   \n",
    "#   \n",
    "######   \n",
    "\n",
    "- 딥러닝 구동에 사용되는 고급 경사 하강법 개요 및 활용법    \n",
    "\n",
    "    <img src=\"https://img1.daumcdn.net/thumb/R1280x0/?scode=mtistory2&fname=https%3A%2F%2Fblog.kakaocdn.net%2Fdn%2FbUf4of%2FbtqELSJSpkX%2FQXI4bbRpaO6Zor2kasb8gK%2Fimg.png\" width=\"400\" align=\"left\">    "
   ]
  }
 ],
 "metadata": {
  "kernelspec": {
   "display_name": "Python 3 (ipykernel)",
   "language": "python",
   "name": "python3"
  },
  "language_info": {
   "codemirror_mode": {
    "name": "ipython",
    "version": 3
   },
   "file_extension": ".py",
   "mimetype": "text/x-python",
   "name": "python",
   "nbconvert_exporter": "python",
   "pygments_lexer": "ipython3",
   "version": "3.7.11"
  }
 },
 "nbformat": 4,
 "nbformat_minor": 5
}
