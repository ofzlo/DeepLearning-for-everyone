{
 "cells": [
  {
   "cell_type": "markdown",
   "id": "0b77ccd6",
   "metadata": {},
   "source": [
    "**4. 평균 제곱 오차(mean square error, MSE)**  \n",
    "- 최소제곱법의 한계: 여러 개의 입력을 처리하기에 무리가 있음   \n",
    "- **```평균 제곱 오차```**: 주어진 선의 오차를 평가하는 오차 평가 알고리즘  \n",
    "    $\\textbf{MSE} = \\frac{1}{n}\\sum (y_i - \\hat{y_i})^2$"
   ]
  },
  {
   "cell_type": "markdown",
   "id": "f3550513",
   "metadata": {},
   "source": [
    "### **선형 회귀 실습2**"
   ]
  },
  {
   "cell_type": "code",
   "execution_count": 1,
   "id": "87837d1c",
   "metadata": {},
   "outputs": [],
   "source": [
    "import numpy as np"
   ]
  },
  {
   "cell_type": "code",
   "execution_count": 2,
   "id": "0c18a5f6",
   "metadata": {},
   "outputs": [],
   "source": [
    "# 기울기 a와 y 절편 b\n",
    "fake_a_b = [3, 76]"
   ]
  },
  {
   "cell_type": "code",
   "execution_count": 3,
   "id": "e7ea8723",
   "metadata": {},
   "outputs": [],
   "source": [
    "# x, y의 데이터 값\n",
    "data = [[2, 81], [4, 93], [6, 91], [8, 97]]\n",
    "x = [i[0] for i in data]\n",
    "y = [i[1] for i in data]"
   ]
  },
  {
   "cell_type": "code",
   "execution_count": 4,
   "id": "5427085d",
   "metadata": {},
   "outputs": [],
   "source": [
    "# y = ax+b에 a와 b 값을 대입하여 결과를 출력하는 함수\n",
    "def predict(x):\n",
    "    return fake_a_b[0] * x + fake_a_b[1]"
   ]
  },
  {
   "cell_type": "code",
   "execution_count": 12,
   "id": "eb2584fe",
   "metadata": {},
   "outputs": [],
   "source": [
    "# MSE 함수\n",
    "def mse(y, y_hat):\n",
    "    return ((y - y_hat) ** 2).mean()"
   ]
  },
  {
   "cell_type": "code",
   "execution_count": 6,
   "id": "f3bf45c2",
   "metadata": {},
   "outputs": [],
   "source": [
    "# MSE 함수를 각 y 값에 대입하여 최종 값을 구하는 함수\n",
    "def mse_val(y, predict_result):\n",
    "    return mse(np.array(y), np.array(predict_result))"
   ]
  },
  {
   "cell_type": "code",
   "execution_count": 15,
   "id": "44473331",
   "metadata": {},
   "outputs": [],
   "source": [
    "# 예측 값이 들어갈 빈 리스트\n",
    "predict_result = []"
   ]
  },
  {
   "cell_type": "code",
   "execution_count": 16,
   "id": "f671ecb9",
   "metadata": {
    "scrolled": true
   },
   "outputs": [
    {
     "name": "stdout",
     "output_type": "stream",
     "text": [
      "공부한 시간=2, 실제 점수=81, 예측 점수=82\n",
      "공부한 시간=4, 실제 점수=93, 예측 점수=88\n",
      "공부한 시간=6, 실제 점수=91, 예측 점수=94\n",
      "공부한 시간=8, 실제 점수=97, 예측 점수=100\n"
     ]
    }
   ],
   "source": [
    "# 모든 x 값을 한 번씩 대입하여\n",
    "for i in range(len(x)):\n",
    "    # predict_result 리스트를 완성\n",
    "    predict_result.append(predict(x[i]))\n",
    "    print(\"공부한 시간=%.f, 실제 점수=%.f, 예측 점수=%.f\" %(x[i], y[i], predict(x[i])))"
   ]
  },
  {
   "cell_type": "code",
   "execution_count": 17,
   "id": "a0dd559a",
   "metadata": {},
   "outputs": [
    {
     "name": "stdout",
     "output_type": "stream",
     "text": [
      "mse 최종값: 11.0\n"
     ]
    }
   ],
   "source": [
    "# 최종 MSE 출력\n",
    "print(\"mse 최종값: \"+ str(mse_val(y, predict_result)))"
   ]
  }
 ],
 "metadata": {
  "kernelspec": {
   "display_name": "Python 3 (ipykernel)",
   "language": "python",
   "name": "python3"
  },
  "language_info": {
   "codemirror_mode": {
    "name": "ipython",
    "version": 3
   },
   "file_extension": ".py",
   "mimetype": "text/x-python",
   "name": "python",
   "nbconvert_exporter": "python",
   "pygments_lexer": "ipython3",
   "version": "3.7.11"
  }
 },
 "nbformat": 4,
 "nbformat_minor": 5
}
