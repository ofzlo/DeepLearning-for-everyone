{
 "cells": [
  {
   "cell_type": "markdown",
   "id": "f2a5cfbe",
   "metadata": {},
   "source": [
    "### 19장 세상에 없는 얼굴 GAN, 오토인코더\n",
    "\n",
    "#### 4. 이미지의 특징을 추출하는 오토인코더\n",
    "- 입력 데이터의 특징을 효율적으로 담아낸 이미지를 만들어 냄.\n",
    "- 오토인코더의 원리   \n",
    "\n",
    "    <img src=\"https://thebook.io/img/080228/298.jpg\" width=\"300\" align=\"left\">\n",
    "\n",
    "#  \n",
    "#  \n",
    "#  \n",
    "#  \n",
    "##  "
   ]
  },
  {
   "cell_type": "markdown",
   "id": "2a0532af",
   "metadata": {},
   "source": [
    "#### 오토인코더 실습하기"
   ]
  },
  {
   "cell_type": "code",
   "execution_count": 1,
   "id": "cc43e2ae",
   "metadata": {},
   "outputs": [],
   "source": [
    "from tensorflow.keras.datasets import mnist\n",
    "from tensorflow.keras.layers import Input, Dense, Reshape, Flatten, Dropout\n",
    "from tensorflow.keras.layers import BatchNormalization, Activation, LeakyReLU, UpSampling2D, Conv2D, MaxPooling2D\n",
    "from tensorflow.keras.models import Sequential, Model\n",
    "\n",
    "import numpy as np\n",
    "import matplotlib.pyplot as plt"
   ]
  },
  {
   "cell_type": "code",
   "execution_count": 2,
   "id": "3e13501d",
   "metadata": {},
   "outputs": [],
   "source": [
    "# MNIST 데이터 셋을 호출\n",
    "(X_train, _), (X_test, _) = mnist.load_data()\n",
    "X_train = X_train.reshape(X_train.shape[0], 28, 28, 1).astype('float32') / 255\n",
    "X_test = X_test.reshape(X_test.shape[0], 28, 28, 1).astype('float32') / 255"
   ]
  },
  {
   "cell_type": "code",
   "execution_count": 5,
   "id": "f10b8d92",
   "metadata": {},
   "outputs": [],
   "source": [
    "# 생성자 모델 만들기\n",
    "autoencoder = Sequential()"
   ]
  },
  {
   "cell_type": "code",
   "execution_count": 6,
   "id": "bde16017",
   "metadata": {},
   "outputs": [],
   "source": [
    "# 인코딩 부분\n",
    "autoencoder.add(Conv2D(16, kernel_size=3, padding='same', input_shape=(28, 28, 1), activation='relu'))\n",
    "autoencoder.add(MaxPooling2D(pool_size=2, padding='same'))\n",
    "autoencoder.add(Conv2D(8, kernel_size=3, activation='relu', padding='same'))\n",
    "autoencoder.add(MaxPooling2D(pool_size=2, padding='same'))\n",
    "autoencoder.add(Conv2D(8, kernel_size=3, strides=2, padding='same', activation='relu'))"
   ]
  },
  {
   "cell_type": "code",
   "execution_count": 7,
   "id": "09ecf6cf",
   "metadata": {},
   "outputs": [],
   "source": [
    "# 디코딩 부분\n",
    "autoencoder.add(Conv2D(8, kernel_size=3, padding='same', activation='relu'))\n",
    "autoencoder.add(UpSampling2D())\n",
    "autoencoder.add(Conv2D(8, kernel_size=3, padding='same', activation='relu'))\n",
    "autoencoder.add(UpSampling2D())\n",
    "autoencoder.add(Conv2D(16, kernel_size=3, activation='relu'))\n",
    "autoencoder.add(UpSampling2D())\n",
    "autoencoder.add(Conv2D(1, kernel_size=3, padding='same', activation='sigmoid'))"
   ]
  },
  {
   "cell_type": "code",
   "execution_count": 8,
   "id": "9a7d63f2",
   "metadata": {},
   "outputs": [
    {
     "name": "stdout",
     "output_type": "stream",
     "text": [
      "Model: \"sequential\"\n",
      "_________________________________________________________________\n",
      "Layer (type)                 Output Shape              Param #   \n",
      "=================================================================\n",
      "conv2d_1 (Conv2D)            (None, 28, 28, 16)        160       \n",
      "_________________________________________________________________\n",
      "max_pooling2d (MaxPooling2D) (None, 14, 14, 16)        0         \n",
      "_________________________________________________________________\n",
      "conv2d_2 (Conv2D)            (None, 14, 14, 8)         1160      \n",
      "_________________________________________________________________\n",
      "max_pooling2d_1 (MaxPooling2 (None, 7, 7, 8)           0         \n",
      "_________________________________________________________________\n",
      "conv2d_3 (Conv2D)            (None, 4, 4, 8)           584       \n",
      "_________________________________________________________________\n",
      "conv2d_4 (Conv2D)            (None, 4, 4, 8)           584       \n",
      "_________________________________________________________________\n",
      "up_sampling2d (UpSampling2D) (None, 8, 8, 8)           0         \n",
      "_________________________________________________________________\n",
      "conv2d_5 (Conv2D)            (None, 8, 8, 8)           584       \n",
      "_________________________________________________________________\n",
      "up_sampling2d_1 (UpSampling2 (None, 16, 16, 8)         0         \n",
      "_________________________________________________________________\n",
      "conv2d_6 (Conv2D)            (None, 14, 14, 16)        1168      \n",
      "_________________________________________________________________\n",
      "up_sampling2d_2 (UpSampling2 (None, 28, 28, 16)        0         \n",
      "_________________________________________________________________\n",
      "conv2d_7 (Conv2D)            (None, 28, 28, 1)         145       \n",
      "=================================================================\n",
      "Total params: 4,385\n",
      "Trainable params: 4,385\n",
      "Non-trainable params: 0\n",
      "_________________________________________________________________\n"
     ]
    }
   ],
   "source": [
    "# 전체 구조 확인\n",
    "autoencoder.summary()"
   ]
  },
  {
   "cell_type": "code",
   "execution_count": 9,
   "id": "1bf19dc6",
   "metadata": {},
   "outputs": [
    {
     "name": "stdout",
     "output_type": "stream",
     "text": [
      "Train on 60000 samples, validate on 10000 samples\n",
      "Epoch 1/50\n",
      "60000/60000 [==============================] - 65s 1ms/sample - loss: 0.2063 - val_loss: 0.1384\n",
      "Epoch 2/50\n",
      "60000/60000 [==============================] - 68s 1ms/sample - loss: 0.1284 - val_loss: 0.1186\n",
      "Epoch 3/50\n",
      "60000/60000 [==============================] - 69s 1ms/sample - loss: 0.1154 - val_loss: 0.1101\n",
      "Epoch 4/50\n",
      "60000/60000 [==============================] - 66s 1ms/sample - loss: 0.1086 - val_loss: 0.1048\n",
      "Epoch 5/50\n",
      "60000/60000 [==============================] - 66s 1ms/sample - loss: 0.1041 - val_loss: 0.1010\n",
      "Epoch 6/50\n",
      "60000/60000 [==============================] - 65s 1ms/sample - loss: 0.1010 - val_loss: 0.0992\n",
      "Epoch 7/50\n",
      "60000/60000 [==============================] - 65s 1ms/sample - loss: 0.0987 - val_loss: 0.0965\n",
      "Epoch 8/50\n",
      "60000/60000 [==============================] - 65s 1ms/sample - loss: 0.0970 - val_loss: 0.0954\n",
      "Epoch 9/50\n",
      "60000/60000 [==============================] - 73s 1ms/sample - loss: 0.0956 - val_loss: 0.0940\n",
      "Epoch 10/50\n",
      "60000/60000 [==============================] - 68s 1ms/sample - loss: 0.0945 - val_loss: 0.0932\n",
      "Epoch 11/50\n",
      "60000/60000 [==============================] - 66s 1ms/sample - loss: 0.0934 - val_loss: 0.0916\n",
      "Epoch 12/50\n",
      "60000/60000 [==============================] - 67s 1ms/sample - loss: 0.0925 - val_loss: 0.0908\n",
      "Epoch 13/50\n",
      "60000/60000 [==============================] - 66s 1ms/sample - loss: 0.0915 - val_loss: 0.0902\n",
      "Epoch 14/50\n",
      "60000/60000 [==============================] - 66s 1ms/sample - loss: 0.0907 - val_loss: 0.0891\n",
      "Epoch 15/50\n",
      "60000/60000 [==============================] - 66s 1ms/sample - loss: 0.0899 - val_loss: 0.0887\n",
      "Epoch 16/50\n",
      "60000/60000 [==============================] - 67s 1ms/sample - loss: 0.0892 - val_loss: 0.0878\n",
      "Epoch 17/50\n",
      "60000/60000 [==============================] - 66s 1ms/sample - loss: 0.0886 - val_loss: 0.0874\n",
      "Epoch 18/50\n",
      "60000/60000 [==============================] - 66s 1ms/sample - loss: 0.0882 - val_loss: 0.0870\n",
      "Epoch 19/50\n",
      "60000/60000 [==============================] - 66s 1ms/sample - loss: 0.0877 - val_loss: 0.0866\n",
      "Epoch 20/50\n",
      "60000/60000 [==============================] - 66s 1ms/sample - loss: 0.0873 - val_loss: 0.0873\n",
      "Epoch 21/50\n",
      "60000/60000 [==============================] - 65s 1ms/sample - loss: 0.0870 - val_loss: 0.0858\n",
      "Epoch 22/50\n",
      "60000/60000 [==============================] - 65s 1ms/sample - loss: 0.0866 - val_loss: 0.0853\n",
      "Epoch 23/50\n",
      "60000/60000 [==============================] - 65s 1ms/sample - loss: 0.0864 - val_loss: 0.0851\n",
      "Epoch 24/50\n",
      "60000/60000 [==============================] - 66s 1ms/sample - loss: 0.0860 - val_loss: 0.0849\n",
      "Epoch 25/50\n",
      "60000/60000 [==============================] - 66s 1ms/sample - loss: 0.0858 - val_loss: 0.0846\n",
      "Epoch 26/50\n",
      "60000/60000 [==============================] - 66s 1ms/sample - loss: 0.0855 - val_loss: 0.0843\n",
      "Epoch 27/50\n",
      "60000/60000 [==============================] - 65s 1ms/sample - loss: 0.0853 - val_loss: 0.0861\n",
      "Epoch 28/50\n",
      "60000/60000 [==============================] - 66s 1ms/sample - loss: 0.0851 - val_loss: 0.0840\n",
      "Epoch 29/50\n",
      "60000/60000 [==============================] - 66s 1ms/sample - loss: 0.0849 - val_loss: 0.0837\n",
      "Epoch 30/50\n",
      "60000/60000 [==============================] - 66s 1ms/sample - loss: 0.0847 - val_loss: 0.0836\n",
      "Epoch 31/50\n",
      "60000/60000 [==============================] - 66s 1ms/sample - loss: 0.0845 - val_loss: 0.0834\n",
      "Epoch 32/50\n",
      "60000/60000 [==============================] - 66s 1ms/sample - loss: 0.0843 - val_loss: 0.0830\n",
      "Epoch 33/50\n",
      "60000/60000 [==============================] - 66s 1ms/sample - loss: 0.0841 - val_loss: 0.0829\n",
      "Epoch 34/50\n",
      "60000/60000 [==============================] - 66s 1ms/sample - loss: 0.0839 - val_loss: 0.0829\n",
      "Epoch 35/50\n",
      "60000/60000 [==============================] - 66s 1ms/sample - loss: 0.0838 - val_loss: 0.0827\n",
      "Epoch 36/50\n",
      "60000/60000 [==============================] - 66s 1ms/sample - loss: 0.0837 - val_loss: 0.0827\n",
      "Epoch 37/50\n",
      "60000/60000 [==============================] - 66s 1ms/sample - loss: 0.0835 - val_loss: 0.0823\n",
      "Epoch 38/50\n",
      "60000/60000 [==============================] - 66s 1ms/sample - loss: 0.0834 - val_loss: 0.0823\n",
      "Epoch 39/50\n",
      "60000/60000 [==============================] - 66s 1ms/sample - loss: 0.0833 - val_loss: 0.0821\n",
      "Epoch 40/50\n",
      "60000/60000 [==============================] - 66s 1ms/sample - loss: 0.0831 - val_loss: 0.0820\n",
      "Epoch 41/50\n",
      "60000/60000 [==============================] - 66s 1ms/sample - loss: 0.0830 - val_loss: 0.0821\n",
      "Epoch 42/50\n",
      "60000/60000 [==============================] - 66s 1ms/sample - loss: 0.0829 - val_loss: 0.0821\n",
      "Epoch 43/50\n",
      "60000/60000 [==============================] - 66s 1ms/sample - loss: 0.0828 - val_loss: 0.0817\n",
      "Epoch 44/50\n",
      "60000/60000 [==============================] - 66s 1ms/sample - loss: 0.0827 - val_loss: 0.0815\n",
      "Epoch 45/50\n",
      "60000/60000 [==============================] - 67s 1ms/sample - loss: 0.0826 - val_loss: 0.0815\n",
      "Epoch 46/50\n",
      "60000/60000 [==============================] - 66s 1ms/sample - loss: 0.0825 - val_loss: 0.0814\n",
      "Epoch 47/50\n",
      "60000/60000 [==============================] - 66s 1ms/sample - loss: 0.0825 - val_loss: 0.0812\n",
      "Epoch 48/50\n",
      "60000/60000 [==============================] - 66s 1ms/sample - loss: 0.0823 - val_loss: 0.0812\n",
      "Epoch 49/50\n",
      "60000/60000 [==============================] - 66s 1ms/sample - loss: 0.0822 - val_loss: 0.0820\n",
      "Epoch 50/50\n",
      "60000/60000 [==============================] - 66s 1ms/sample - loss: 0.0822 - val_loss: 0.0811\n"
     ]
    },
    {
     "data": {
      "text/plain": [
       "<tensorflow.python.keras.callbacks.History at 0x236e4e57e08>"
      ]
     },
     "execution_count": 9,
     "metadata": {},
     "output_type": "execute_result"
    }
   ],
   "source": [
    "# 컴파일 및 학습을 하는 부분\n",
    "autoencoder.compile(optimizer='adam', loss='binary_crossentropy')\n",
    "autoencoder.fit(X_train, X_train, epochs=50, batch_size=128, validation_data=(X_test, X_test))"
   ]
  },
  {
   "cell_type": "code",
   "execution_count": 11,
   "id": "e1141517",
   "metadata": {},
   "outputs": [],
   "source": [
    "# 학습된 결과를 출력하는 부분\n",
    "random_test = np.random.randint(X_test.shape[0], size=5)"
   ]
  },
  {
   "cell_type": "code",
   "execution_count": 13,
   "id": "aa19dd57",
   "metadata": {},
   "outputs": [
    {
     "data": {
      "image/png": "[encoded data removed]",
      "text/plain": [
       "<Figure size 504x144 with 10 Axes>"
      ]
     },
     "metadata": {
      "needs_background": "light"
     },
     "output_type": "display_data"
    }
   ],
   "source": [
    "# 테스트할 이미지를 랜덤으로 호출\n",
    "ae_imgs = autoencoder.predict(X_test)   # 앞서 만든 오토인코더 모델에 넣기\n",
    "\n",
    "plt.figure(figsize=(7, 2))\n",
    "\n",
    "for i, image_idx in enumerate(random_test):\n",
    "    # 랜덤으로 뽑은 이미지를 차례로 나열\n",
    "    ax = plt.subplot(2, 7, i + 1)\n",
    "    # 테스트할 이미지를 먼저 그대로 보여줌\n",
    "    plt.imshow(X_test[image_idx].reshape(28, 28))\n",
    "    ax.axis('off')\n",
    "    ax = plt.subplot(2, 7, 7 + i +1)\n",
    "    # 오토인코딩 결과를 다음 열에 입력\n",
    "    plt.imshow(ae_imgs[image_idx].reshape(28, 28))\n",
    "    ax.axis('off')\n",
    "plt.show()"
   ]
  }
 ],
 "metadata": {
  "kernelspec": {
   "display_name": "Python 3 (ipykernel)",
   "language": "python",
   "name": "python3"
  },
  "language_info": {
   "codemirror_mode": {
    "name": "ipython",
    "version": 3
   },
   "file_extension": ".py",
   "mimetype": "text/x-python",
   "name": "python",
   "nbconvert_exporter": "python",
   "pygments_lexer": "ipython3",
   "version": "3.7.11"
  }
 },
 "nbformat": 4,
 "nbformat_minor": 5
}
