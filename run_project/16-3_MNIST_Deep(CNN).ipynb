{
 "cells": [
  {
   "cell_type": "markdown",
   "id": "814aa37b",
   "metadata": {},
   "source": [
    "### 16장 이미지 인식의 꽃, CNN 익히기\n",
    "\n",
    "#### 4. 컨볼루션 신경망(CNN)\n",
    "- 컨볼루션 신경망: 입력된 이미지에서 다시 한 번 특징을 추출하기 위해 커널을 도입하는 기법\n",
    "    - 컨볼루션(합성곱): 입력 데이터로부터 더욱 정교한 특징 추출 가능\n",
    "    - ```Conv2D()```: 컨볼루션 층 추가\n",
    "    \n",
    "- ```modle.add)Conv2D(32, kernel_size(3,3), input_shape(28, 28, 1), activation='relu'))```\n",
    "    > **1** | 첫번째 인자: 커널을 몇 개 적용할지 결정  \n",
    "    > **2** | kernel_size: 커널의 크기 결정. ```kernel_size=(행, 열)``` 형식   \n",
    "    > **3** | input_shape: 처음 층에 입력되는 값 알려주기. ```input_shape(행, 열, 색상 또는 흑백)``` 형식  \n",
    "    > **4** | activation: 활성화 함수 정의\n",
    "- ```model.add(Conv2D(64, (3, 3), activation='relu'))```\n",
    "- 도식화  \n",
    "\n",
    "    <img src=\"https://thebook.io/img/080228/231.jpg\" width=\"350\" align=\"left\">\n",
    "\n",
    "#  \n",
    "#  \n",
    "#  \n",
    "#  \n",
    "#  \n",
    "#  \n",
    "#  \n",
    "<br>\n",
    "<br>\n",
    "<br>\n",
    "\n",
    "#### 5. 맥스 풀링\n",
    "- 풀링(pooling) / 서브 샘플링(sub sampling): 이미지 특징이 크고 복잡할 경우 축소하는 과정\n",
    "    - **맥스 풀링(max pooling)**: 정해진 구역 안에서 최댓값을 뽑아냄\n",
    "        - MaxPooling2D() 함수 사용\n",
    "            - ```model.add(MaxPooling2D(pool_size=2))```\n",
    "                - pool_size: 풀링 창의 크기 설정\n",
    "    - **평균 풀링(average pooling)**: 평균값을 뽑음\n",
    "- 도식화\n",
    "\n",
    "    <img src=\"https://thebook.io/img/080228/233.jpg\" width=\"350\" align=\"left\">\n",
    "\n",
    "#  \n",
    "#  \n",
    "#  \n",
    "#  \n",
    "#  \n",
    "#  \n",
    "#  \n",
    "<br>\n",
    "<br>\n",
    "<br>\n",
    "<br>\n",
    "\n",
    "#### 드롭아웃, 플래튼\n",
    "- **드롭아웃(drop out)**: 과적합을 피하는 기법\n",
    "    - 은닉층에 배치된 노드 중 일부를 임의로 꺼주는 것\n",
    "    - ```model.add(Dropout(0.25)``` : 25%의 노드를 끈다는 뜻\n",
    "    - 랜덤하게 노드를 끔으로써 과적합 방지 가능\n",
    "    \n",
    "    <img src=\"https://thebook.io/img/080228/234.jpg\" width=\"500\" align=\"left\">\n",
    "    \n",
    "#  \n",
    "#  \n",
    "#  \n",
    "#  \n",
    "<br>\n",
    "<br>\n",
    "<br>\n",
    "\n",
    "- **플래튼(Flatten)**\n",
    "    - 맥스 풀링은 2차원 배열인 채로 이미지를 다룸 → 1차원 배열로 전환 필요(활성화 함수 사용을 위해)\n",
    "    - ```model.add(Flatten())```\n",
    "\n",
    "<br>\n",
    "\n",
    "- 도식화\n",
    "\n",
    "    <img src=\"https://thebook.io/img/080228/235.jpg\" width=\"600\" align=\"left\">"
   ]
  },
  {
   "cell_type": "markdown",
   "id": "18e599ca",
   "metadata": {},
   "source": [
    "#### 6. 컨볼루션 신경망 실행하기"
   ]
  },
  {
   "cell_type": "code",
   "execution_count": 1,
   "id": "9849da19",
   "metadata": {},
   "outputs": [
    {
     "name": "stderr",
     "output_type": "stream",
     "text": [
      "Using TensorFlow backend.\n"
     ]
    }
   ],
   "source": [
    "from keras.datasets import mnist\n",
    "from keras.utils import np_utils\n",
    "from keras.models import Sequential\n",
    "from keras.layers import Dense, Dropout, Flatten, Conv2D, MaxPooling2D\n",
    "from keras.callbacks import ModelCheckpoint, EarlyStopping\n",
    "\n",
    "import matplotlib.pyplot as plt\n",
    "import numpy as np\n",
    "import os\n",
    "import tensorflow as tf"
   ]
  },
  {
   "cell_type": "code",
   "execution_count": 2,
   "id": "03ddb9c4",
   "metadata": {},
   "outputs": [],
   "source": [
    "# seed 값 설정\n",
    "seed = 0\n",
    "np.random.seed(seed)\n",
    "tf.random.set_seed(3)"
   ]
  },
  {
   "cell_type": "code",
   "execution_count": 3,
   "id": "48b7b9ef",
   "metadata": {},
   "outputs": [],
   "source": [
    "# MNIST 데이터 불러오기\n",
    "(X_train, Y_train), (X_test, Y_test) = mnist.load_data()\n",
    "\n",
    "X_train = X_train.reshape(X_train.shape[0], 28, 28, 1).astype('float32') / 255\n",
    "X_test = X_test.reshape(X_test.shape[0], 28, 28, 1).astype('float32') / 255\n",
    "\n",
    "Y_train = np_utils.to_categorical(Y_train)\n",
    "Y_test = np_utils.to_categorical(Y_test)"
   ]
  },
  {
   "cell_type": "code",
   "execution_count": 4,
   "id": "53924a6b",
   "metadata": {},
   "outputs": [],
   "source": [
    "# 컨볼루션 신경망 설정\n",
    "model = Sequential()\n",
    "model.add(Conv2D(32, kernel_size=(3,3), input_shape=(28, 28, 1), activation='relu'))\n",
    "model.add(Conv2D(64, (3, 3), activation='relu'))\n",
    "model.add(MaxPooling2D(pool_size=2))\n",
    "model.add(Dropout(0.25))\n",
    "model.add(Flatten())\n",
    "model.add(Dense(128, activation='relu'))\n",
    "model.add(Dropout(0.5))\n",
    "model.add(Dense(10, activation='softmax'))\n",
    "\n",
    "model.compile(loss='categorical_crossentropy',\n",
    "             optimizer='adam',\n",
    "             metrics=['accuracy'])"
   ]
  },
  {
   "cell_type": "code",
   "execution_count": 5,
   "id": "a0643325",
   "metadata": {},
   "outputs": [],
   "source": [
    "# 모델 최적화 설정\n",
    "MODEL_DIR = './model_deep/'\n",
    "if not os.path.exists(MODEL_DIR):\n",
    "    os.mkdir(MODEL_DIR)\n",
    "\n",
    "modelpath=\"./model_deep/{epoch:02d}-{val_loss:4f}.hdf5\"\n",
    "checkpointer = ModelCheckpoint(filepath=modelpath, monitor='val_loss', verbose=1, save_best_only=True)\n",
    "early_stopping_callback = EarlyStopping(monitor='val_loss', patience=10)"
   ]
  },
  {
   "cell_type": "code",
   "execution_count": 6,
   "id": "27572e06",
   "metadata": {},
   "outputs": [
    {
     "name": "stdout",
     "output_type": "stream",
     "text": [
      "\n",
      "Epoch 00001: val_loss improved from inf to 0.05556, saving model to ./model_deep/01-0.055562.hdf5\n",
      "\n",
      "Epoch 00002: val_loss improved from 0.05556 to 0.03983, saving model to ./model_deep/02-0.039827.hdf5\n",
      "\n",
      "Epoch 00003: val_loss improved from 0.03983 to 0.03340, saving model to ./model_deep/03-0.033404.hdf5\n",
      "\n",
      "Epoch 00004: val_loss did not improve from 0.03340\n",
      "\n",
      "Epoch 00005: val_loss improved from 0.03340 to 0.03150, saving model to ./model_deep/05-0.031496.hdf5\n",
      "\n",
      "Epoch 00006: val_loss improved from 0.03150 to 0.02897, saving model to ./model_deep/06-0.028973.hdf5\n",
      "\n",
      "Epoch 00007: val_loss did not improve from 0.02897\n",
      "\n",
      "Epoch 00008: val_loss did not improve from 0.02897\n",
      "\n",
      "Epoch 00009: val_loss improved from 0.02897 to 0.02896, saving model to ./model_deep/09-0.028962.hdf5\n",
      "\n",
      "Epoch 00010: val_loss did not improve from 0.02896\n",
      "\n",
      "Epoch 00011: val_loss did not improve from 0.02896\n",
      "\n",
      "Epoch 00012: val_loss improved from 0.02896 to 0.02710, saving model to ./model_deep/12-0.027103.hdf5\n",
      "\n",
      "Epoch 00013: val_loss did not improve from 0.02710\n",
      "\n",
      "Epoch 00014: val_loss improved from 0.02710 to 0.02694, saving model to ./model_deep/14-0.026939.hdf5\n",
      "\n",
      "Epoch 00015: val_loss did not improve from 0.02694\n",
      "\n",
      "Epoch 00016: val_loss did not improve from 0.02694\n",
      "\n",
      "Epoch 00017: val_loss improved from 0.02694 to 0.02690, saving model to ./model_deep/17-0.026900.hdf5\n",
      "\n",
      "Epoch 00018: val_loss did not improve from 0.02690\n",
      "\n",
      "Epoch 00019: val_loss did not improve from 0.02690\n",
      "\n",
      "Epoch 00020: val_loss did not improve from 0.02690\n",
      "\n",
      "Epoch 00021: val_loss did not improve from 0.02690\n",
      "\n",
      "Epoch 00022: val_loss did not improve from 0.02690\n",
      "\n",
      "Epoch 00023: val_loss did not improve from 0.02690\n",
      "\n",
      "Epoch 00024: val_loss did not improve from 0.02690\n",
      "\n",
      "Epoch 00025: val_loss did not improve from 0.02690\n",
      "\n",
      "Epoch 00026: val_loss did not improve from 0.02690\n",
      "\n",
      "Epoch 00027: val_loss did not improve from 0.02690\n",
      "10000/10000 [==============================] - 3s 309us/step\n",
      "\n",
      " Test Accuracy: 0.9925\n"
     ]
    }
   ],
   "source": [
    "# 모델의 실행\n",
    "history = model.fit(X_train, Y_train, validation_data=(X_test, Y_test), epochs=30, batch_size=200, verbose=0,\n",
    "                    callbacks=[early_stopping_callback, checkpointer])\n",
    "\n",
    "# 테스트 정화도 출력\n",
    "print(\"\\n Test Accuracy: %.4f\" % (model.evaluate(X_test, Y_test)[1]))"
   ]
  },
  {
   "cell_type": "code",
   "execution_count": 9,
   "id": "56a9653b",
   "metadata": {},
   "outputs": [
    {
     "data": {
      "image/png": "[encoded data removed]",
      "text/plain": [
       "<Figure size 432x288 with 1 Axes>"
      ]
     },
     "metadata": {
      "needs_background": "light"
     },
     "output_type": "display_data"
    }
   ],
   "source": [
    "# 테스트셋의 오차\n",
    "y_vloss = history.history['val_loss']\n",
    "\n",
    "# 학습셋의 오차\n",
    "y_loss = history.history['loss']\n",
    "\n",
    "# 그래프로 표현\n",
    "x_len = np.arange(len(y_loss))\n",
    "plt.plot(x_len, y_vloss, marker='.', c=\"red\", label='Testset_loss')\n",
    "plt.plot(x_len, y_loss, marker='.', c=\"blue\", label='Trainset_loss')\n",
    "\n",
    "# 그래프에 그리드를 주고 레이블을 표시\n",
    "plt.legend(loc='upper right')\n",
    "plt.grid()\n",
    "plt.xlabel('epoch')\n",
    "plt.ylabel('loss')\n",
    "plt.show()"
   ]
  }
 ],
 "metadata": {
  "kernelspec": {
   "display_name": "Python 3 (ipykernel)",
   "language": "python",
   "name": "python3"
  },
  "language_info": {
   "codemirror_mode": {
    "name": "ipython",
    "version": 3
   },
   "file_extension": ".py",
   "mimetype": "text/x-python",
   "name": "python",
   "nbconvert_exporter": "python",
   "pygments_lexer": "ipython3",
   "version": "3.7.11"
  }
 },
 "nbformat": 4,
 "nbformat_minor": 5
}
