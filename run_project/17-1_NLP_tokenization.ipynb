{
 "cells": [
  {
   "cell_type": "markdown",
   "id": "4d6cd835",
   "metadata": {},
   "source": [
    "### 17장 딥러닝을 이용한 자연어 처리\n",
    "\n",
    "- **```자연어처리(Natural Language Processing, NLP) ```**   \n",
    "    : 음성이나 텍스트를 컴퓨터가 인식하고 처리하는 것\n",
    "    \n",
    "#### 1. 텍스트의 토큰화\n",
    "- **```토큰(token)```**: 텍스트가 작게 나누어진 하나의 단위\n",
    "- **```토큰화(tokenization)```**\n",
    "- 텍스트를 단어 단위로 쪼개면 다양하게 활용 가능  \n",
    "    ex) 단어 중복, 빈도 수 확인 → 중요한 역할을 하는 단어 파악 가능"
   ]
  },
  {
   "cell_type": "code",
   "execution_count": 1,
   "id": "4e9dbb61",
   "metadata": {},
   "outputs": [
    {
     "name": "stdout",
     "output_type": "stream",
     "text": [
      "['해보지', '않으면', '해낼', '수', '없다']\n"
     ]
    }
   ],
   "source": [
    "from tensorflow.keras.preprocessing.text import text_to_word_sequence\n",
    "\n",
    "text = '해보지 않으면 해낼 수 없다'\n",
    "result = text_to_word_sequence(text)\n",
    "print(result)"
   ]
  },
  {
   "cell_type": "markdown",
   "id": "61dc9849",
   "metadata": {},
   "source": [
    "**```Tokenizer()```** 함수를 사용한 전처리 과정\n",
    "- ```Tokenizer()```: 토큰화 함수"
   ]
  },
  {
   "cell_type": "code",
   "execution_count": 2,
   "id": "1f5648cc",
   "metadata": {},
   "outputs": [
    {
     "name": "stdout",
     "output_type": "stream",
     "text": [
      "OrderedDict([('먼저', 1), ('텍스트의', 2), ('각', 1), ('단어를', 1), ('나누어', 1), ('토큰화합니다', 1), ('단어로', 1), ('토큰화해야', 1), ('딥러닝에서', 2), ('인식됩니다', 1), ('토큰화한', 1), ('결과는', 1), ('사용할', 1), ('수', 1), ('있습니다', 1)])\n"
     ]
    }
   ],
   "source": [
    "from tensorflow.keras.preprocessing.text import Tokenizer\n",
    "\n",
    "docs = ['먼저 텍스트의 각 단어를 나누어 토큰화합니다.',\n",
    "       '텍스트의 단어로 토큰화해야 딥러닝에서 인식됩니다.',\n",
    "       '토큰화한 결과는 딥러닝에서 사용할 수 있습니다.',\n",
    "       ]\n",
    "\n",
    "token = Tokenizer()       # 토큰화 함수 지정\n",
    "token.fit_on_texts(docs)  # 토큰화 함수에 문장 적용\n",
    "print(token.word_counts)  # 단어의 빈도 수를 계산한 결과 출력"
   ]
  },
  {
   "cell_type": "code",
   "execution_count": 3,
   "id": "b6efddff",
   "metadata": {},
   "outputs": [
    {
     "name": "stdout",
     "output_type": "stream",
     "text": [
      "3\n"
     ]
    }
   ],
   "source": [
    "# document_count: 총 몇 개의 문장이 들어있는지 count\n",
    "print(token.document_count)"
   ]
  },
  {
   "cell_type": "code",
   "execution_count": 4,
   "id": "f939a0aa",
   "metadata": {},
   "outputs": [
    {
     "name": "stdout",
     "output_type": "stream",
     "text": [
      "defaultdict(<class 'int'>, {'텍스트의': 2, '나누어': 1, '단어를': 1, '각': 1, '먼저': 1, '토큰화합니다': 1, '토큰화해야': 1, '인식됩니다': 1, '딥러닝에서': 2, '단어로': 1, '사용할': 1, '수': 1, '결과는': 1, '토큰화한': 1, '있습니다': 1})\n"
     ]
    }
   ],
   "source": [
    "# word_docs(): 각 단어들이 몇 개의 문장에 나오는지 count, 출력 순서 random\n",
    "print(token.word_docs)"
   ]
  },
  {
   "cell_type": "code",
   "execution_count": 5,
   "id": "321f5280",
   "metadata": {},
   "outputs": [
    {
     "name": "stdout",
     "output_type": "stream",
     "text": [
      "{'텍스트의': 1, '딥러닝에서': 2, '먼저': 3, '각': 4, '단어를': 5, '나누어': 6, '토큰화합니다': 7, '단어로': 8, '토큰화해야': 9, '인식됩니다': 10, '토큰화한': 11, '결과는': 12, '사용할': 13, '수': 14, '있습니다': 15}\n"
     ]
    }
   ],
   "source": [
    "# word_index(): 각 단어에 매겨진 인덱스 값 출력\n",
    "print(token.word_index)"
   ]
  }
 ],
 "metadata": {
  "kernelspec": {
   "display_name": "Python 3 (ipykernel)",
   "language": "python",
   "name": "python3"
  },
  "language_info": {
   "codemirror_mode": {
    "name": "ipython",
    "version": 3
   },
   "file_extension": ".py",
   "mimetype": "text/x-python",
   "name": "python",
   "nbconvert_exporter": "python",
   "pygments_lexer": "ipython3",
   "version": "3.7.11"
  }
 },
 "nbformat": 4,
 "nbformat_minor": 5
}
