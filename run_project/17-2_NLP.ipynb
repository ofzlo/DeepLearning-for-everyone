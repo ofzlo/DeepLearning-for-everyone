{
 "cells": [
  {
   "cell_type": "markdown",
   "id": "deca996a",
   "metadata": {},
   "source": [
    "### 17장 딥러닝을 이용한 자연어 처리\n",
    "\n",
    "#### 2. 단어의 원-핫 인코딩\n",
    "\n",
    "- 배열 인덱스 0부터 시작 → 맨 앞에 0 추가\n",
    "\n",
    "<img src=\"https://user-images.githubusercontent.com/90624848/155364703-777ef282-9c58-47f9-8b85-c503d6d51c46.PNG\" width=\"600\" align=\"left\">\n",
    "\n",
    "<img src=\"https://user-images.githubusercontent.com/90624848/155364708-e7154fa0-0799-43d2-ae8d-534aaa0be79b.PNG\" width=\"600\" align=\"left\">"
   ]
  },
  {
   "cell_type": "code",
   "execution_count": 1,
   "id": "6732bcc4",
   "metadata": {},
   "outputs": [
    {
     "name": "stdout",
     "output_type": "stream",
     "text": [
      "{'오랫동안': 1, '꿈꾸는': 2, '이는': 3, '그': 4, '꿈을': 5, '닮아간다': 6}\n"
     ]
    }
   ],
   "source": [
    "from tensorflow.keras.preprocessing.text import Tokenizer\n",
    "\n",
    "text=\"오랫동안 꿈꾸는 이는 그 꿈을 닮아간다\"\n",
    "\n",
    "token = Tokenizer()\n",
    "token.fit_on_texts([text])\n",
    "print(token.word_index)"
   ]
  },
  {
   "cell_type": "code",
   "execution_count": 2,
   "id": "434fb400",
   "metadata": {},
   "outputs": [
    {
     "name": "stdout",
     "output_type": "stream",
     "text": [
      "[[1, 2, 3, 4, 5, 6]]\n"
     ]
    }
   ],
   "source": [
    "# texts_to_sequences(): 앞서 만들어진 토큰의 인덱스로만 채워진 새로운 배열 생성\n",
    "x = token.texts_to_sequences([text])\n",
    "print(x)"
   ]
  },
  {
   "cell_type": "code",
   "execution_count": 3,
   "id": "16df5424",
   "metadata": {},
   "outputs": [
    {
     "name": "stdout",
     "output_type": "stream",
     "text": [
      "[[[0. 1. 0. 0. 0. 0. 0.]\n",
      "  [0. 0. 1. 0. 0. 0. 0.]\n",
      "  [0. 0. 0. 1. 0. 0. 0.]\n",
      "  [0. 0. 0. 0. 1. 0. 0.]\n",
      "  [0. 0. 0. 0. 0. 1. 0.]\n",
      "  [0. 0. 0. 0. 0. 0. 1.]]]\n"
     ]
    },
    {
     "name": "stderr",
     "output_type": "stream",
     "text": [
      "Using TensorFlow backend.\n"
     ]
    }
   ],
   "source": [
    "# to_categorical() 함수를 사용해 원-핫 인코딩 과정 진행\n",
    "from keras.utils import to_categorical\n",
    "\n",
    "# 인덱스 수에 하나를 추가해서(맨 앞에 0이 추가되므로) 원-핫 인코딩 배열 만들기\n",
    "word_size = len(token.word_index) +1\n",
    "x = to_categorical(x, num_classes=word_size)\n",
    "\n",
    "print(x)"
   ]
  },
  {
   "cell_type": "markdown",
   "id": "c93e6c5a",
   "metadata": {},
   "source": [
    "#### 3. 단어 임베딩\n",
    "- 원-핫 인코딩 그대로 사용 → 벡터의 길이가 너무 길어짐\n",
    "- ```단어 임베딩(word embedding)```: 공간적 낭비 해결\n",
    "    - 주어진 배열을 정해진 길이로 압축\n",
    "    - 예시: 16차원 벡터 → 4차원 벡터   \n",
    "     \n",
    "        <img src=\"https://thebook.io/img/080228/252_1.jpg\" width=\"500\" align=\"left\">   \n",
    "        <br>\n",
    "        <br>\n",
    "        <br>\n",
    "        <br>\n",
    "        <br>\n",
    "        <img src=\"https://thebook.io/img/080228/252_2.jpg\" width=\"200\" align=\"left\">\n",
    "        <br>\n",
    "        <br>\n",
    "        <br>\n",
    "        <br>\n",
    "        <br>\n",
    "        <br>\n",
    "    - 단어 임베딩으로 얻은 결과가 밀집된 정보를 가지고 있고공간의 낭비가 적음.   \n",
    "        ∵ 각 단어 간의 유사도 계산\n",
    "        - 유사도 계산: 오차 역전파 사용\n",
    "    - ```Embedding()``` 함수 사용\n",
    "        - 최소 2개의 매개변수 필요: 입력, 출력 크기\n",
    "        - Embeeding(16, 4, input_length=2): 총 입력 단어 수는 16개이지만 매번 2개씩만 넣겠다."
   ]
  },
  {
   "cell_type": "code",
   "execution_count": 4,
   "id": "daa33589",
   "metadata": {},
   "outputs": [],
   "source": [
    "from keras.models import Sequential\n",
    "from keras.layers import Embedding\n",
    "\n",
    "model = Sequential()\n",
    "model.add(Embedding(16, 4)) # 입력될 총 단어 수는 16, 임베딩 후 출력되는 벡터 크기 4"
   ]
  },
  {
   "cell_type": "markdown",
   "id": "cb6e19af",
   "metadata": {},
   "source": [
    "#### 4. 텍스트를 읽고 긍정, 부정 예측하기"
   ]
  },
  {
   "cell_type": "code",
   "execution_count": 5,
   "id": "e2dae757",
   "metadata": {},
   "outputs": [],
   "source": [
    "import numpy\n",
    "import tensorflow as tf\n",
    "\n",
    "from numpy import array\n",
    "from tensorflow.keras.preprocessing.text import Tokenizer\n",
    "from tensorflow.keras.preprocessing.sequence import pad_sequences\n",
    "from tensorflow.keras.models import Sequential\n",
    "from tensorflow.keras.layers import Dense, Flatten, Embedding"
   ]
  },
  {
   "cell_type": "code",
   "execution_count": 6,
   "id": "fbad05fe",
   "metadata": {},
   "outputs": [],
   "source": [
    "# 텍스트 리뷰 자료 지정\n",
    "docs = [\"너무 재밌네요\",\"최고예요\",\"참 잘 만든 영화예요\",\"추천하고 싶은 영화입니다\",\"한번 더 보고싶네요\",\"글쎄요\",\"별로예요\",\"생각보다 지루하네요\",\"연기가 어색해요\",\"재미없어요\"]\n",
    "\n",
    "# 긍정 리뷰는 1, 부정 리뷰는 0으로 클래스를 지정합니다.\n",
    "classes = array([1,1,1,1,1,0,0,0,0,0])"
   ]
  },
  {
   "cell_type": "code",
   "execution_count": 7,
   "id": "f14e969a",
   "metadata": {},
   "outputs": [
    {
     "name": "stdout",
     "output_type": "stream",
     "text": [
      "{'너무': 1, '재밌네요': 2, '최고예요': 3, '참': 4, '잘': 5, '만든': 6, '영화예요': 7, '추천하고': 8, '싶은': 9, '영화입니다': 10, '한번': 11, '더': 12, '보고싶네요': 13, '글쎄요': 14, '별로예요': 15, '생각보다': 16, '지루하네요': 17, '연기가': 18, '어색해요': 19, '재미없어요': 20}\n",
      "\n",
      "리뷰 텍스트, 토큰화 결과:\n",
      " [[1, 2], [3], [4, 5, 6, 7], [8, 9, 10], [11, 12, 13], [14], [15], [16, 17], [18, 19], [20]]\n"
     ]
    }
   ],
   "source": [
    "# 토큰화\n",
    "token = Tokenizer()\n",
    "token.fit_on_texts(docs)\n",
    "print(token.word_index)\n",
    "x = token.texts_to_sequences(docs)\n",
    "print(\"\\n리뷰 텍스트, 토큰화 결과:\\n\",  x)"
   ]
  },
  {
   "cell_type": "code",
   "execution_count": 8,
   "id": "b6370d89",
   "metadata": {},
   "outputs": [
    {
     "name": "stdout",
     "output_type": "stream",
     "text": [
      "\n",
      "패딩 결과:\n",
      " [[ 0  0  1  2]\n",
      " [ 0  0  0  3]\n",
      " [ 4  5  6  7]\n",
      " [ 0  8  9 10]\n",
      " [ 0 11 12 13]\n",
      " [ 0  0  0 14]\n",
      " [ 0  0  0 15]\n",
      " [ 0  0 16 17]\n",
      " [ 0  0 18 19]\n",
      " [ 0  0  0 20]]\n"
     ]
    }
   ],
   "source": [
    "# 패딩, 서로 다른 길이의 데이터를 4로 맞춤\n",
    "padded_x = pad_sequences(x, 4)\n",
    "print(\"\\n패딩 결과:\\n\", padded_x)"
   ]
  },
  {
   "cell_type": "code",
   "execution_count": 9,
   "id": "5ad10ccf",
   "metadata": {},
   "outputs": [
    {
     "name": "stdout",
     "output_type": "stream",
     "text": [
      "Train on 10 samples\n",
      "Epoch 1/20\n",
      "10/10 [==============================] - 1s 55ms/sample - loss: 0.6844 - accuracy: 0.8000\n",
      "Epoch 2/20\n",
      "10/10 [==============================] - 0s 196us/sample - loss: 0.6829 - accuracy: 0.8000\n",
      "Epoch 3/20\n",
      "10/10 [==============================] - 0s 199us/sample - loss: 0.6813 - accuracy: 0.8000\n",
      "Epoch 4/20\n",
      "10/10 [==============================] - 0s 199us/sample - loss: 0.6798 - accuracy: 0.8000\n",
      "Epoch 5/20\n",
      "10/10 [==============================] - 0s 195us/sample - loss: 0.6783 - accuracy: 0.8000\n",
      "Epoch 6/20\n",
      "10/10 [==============================] - 0s 305us/sample - loss: 0.6767 - accuracy: 0.8000\n",
      "Epoch 7/20\n",
      "10/10 [==============================] - 0s 199us/sample - loss: 0.6752 - accuracy: 0.9000\n",
      "Epoch 8/20\n",
      "10/10 [==============================] - 0s 299us/sample - loss: 0.6737 - accuracy: 0.9000\n",
      "Epoch 9/20\n",
      "10/10 [==============================] - 0s 202us/sample - loss: 0.6721 - accuracy: 0.9000\n",
      "Epoch 10/20\n",
      "10/10 [==============================] - 0s 196us/sample - loss: 0.6706 - accuracy: 0.9000\n",
      "Epoch 11/20\n",
      "10/10 [==============================] - 0s 299us/sample - loss: 0.6690 - accuracy: 0.9000\n",
      "Epoch 12/20\n",
      "10/10 [==============================] - 0s 199us/sample - loss: 0.6674 - accuracy: 0.9000\n",
      "Epoch 13/20\n",
      "10/10 [==============================] - 0s 299us/sample - loss: 0.6658 - accuracy: 0.9000\n",
      "Epoch 14/20\n",
      "10/10 [==============================] - 0s 403us/sample - loss: 0.6642 - accuracy: 0.9000\n",
      "Epoch 15/20\n",
      "10/10 [==============================] - 0s 200us/sample - loss: 0.6626 - accuracy: 0.9000\n",
      "Epoch 16/20\n",
      "10/10 [==============================] - 0s 499us/sample - loss: 0.6610 - accuracy: 0.9000\n",
      "Epoch 17/20\n",
      "10/10 [==============================] - 0s 299us/sample - loss: 0.6594 - accuracy: 0.9000\n",
      "Epoch 18/20\n",
      "10/10 [==============================] - 0s 303us/sample - loss: 0.6578 - accuracy: 0.9000\n",
      "Epoch 19/20\n",
      "10/10 [==============================] - 0s 196us/sample - loss: 0.6561 - accuracy: 0.9000\n",
      "Epoch 20/20\n",
      "10/10 [==============================] - 0s 502us/sample - loss: 0.6545 - accuracy: 0.9000\n",
      "10/1 [============================================================================================================================================================================================================================================================================================================] - 0s 7ms/sample - loss: 0.6528 - accuracy: 0.9000\n",
      "\n",
      " Accuracy: 0.9000\n"
     ]
    }
   ],
   "source": [
    "# 임베딩에 입력될 단어 수 지정\n",
    "word_size = len(token.word_index) +1\n",
    "\n",
    "# 단어 임베딩을 포함하여 딥러닝 모델을 만들고 결과 출력\n",
    "model = Sequential()\n",
    "model.add(Embedding(word_size, 8, input_length=4))\n",
    "model.add(Flatten())\n",
    "model.add(Dense(1, activation='sigmoid'))\n",
    "model.compile(optimizer='adam',\n",
    "             loss='binary_crossentropy',\n",
    "             metrics=['accuracy'])\n",
    "model.fit(padded_x, classes, epochs=20)\n",
    "\n",
    "print(\"\\n Accuracy: %.4f\" % (model.evaluate(padded_x, classes)[1]))"
   ]
  }
 ],
 "metadata": {
  "kernelspec": {
   "display_name": "Python 3 (ipykernel)",
   "language": "python",
   "name": "python3"
  },
  "language_info": {
   "codemirror_mode": {
    "name": "ipython",
    "version": 3
   },
   "file_extension": ".py",
   "mimetype": "text/x-python",
   "name": "python",
   "nbconvert_exporter": "python",
   "pygments_lexer": "ipython3",
   "version": "3.7.11"
  }
 },
 "nbformat": 4,
 "nbformat_minor": 5
}
