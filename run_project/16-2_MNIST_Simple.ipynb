{
 "cells": [
  {
   "cell_type": "markdown",
   "id": "ed5b845b",
   "metadata": {},
   "source": [
    "### 16장 이미지 인식의 꽃, CNN 익히기\n",
    "\n",
    "#### 2. 딥러닝 기본 프레임 만들기."
   ]
  },
  {
   "cell_type": "code",
   "execution_count": 1,
   "id": "df0549ab",
   "metadata": {},
   "outputs": [
    {
     "name": "stderr",
     "output_type": "stream",
     "text": [
      "Using TensorFlow backend.\n"
     ]
    }
   ],
   "source": [
    "from keras.datasets import mnist\n",
    "from keras.utils import np_utils\n",
    "from keras.models import Sequential\n",
    "from keras.layers import Dense\n",
    "from keras.callbacks import ModelCheckpoint, EarlyStopping\n",
    "\n",
    "import matplotlib.pyplot as plt\n",
    "import numpy as np\n",
    "import os\n",
    "import tensorflow as tf"
   ]
  },
  {
   "cell_type": "code",
   "execution_count": 2,
   "id": "9fe26fd8",
   "metadata": {},
   "outputs": [],
   "source": [
    "# seed 값 설정\n",
    "seed = 0\n",
    "np.random.seed(seed)\n",
    "tf.random.set_seed(seed)"
   ]
  },
  {
   "cell_type": "code",
   "execution_count": 3,
   "id": "25ec19f5",
   "metadata": {},
   "outputs": [],
   "source": [
    "# MNIST 데이터 불러오기\n",
    "(X_train, Y_train), (X_test, Y_test) = mnist.load_data()\n",
    "\n",
    "X_train = X_train.reshape(X_train.shape[0], 784).astype('float32') / 255\n",
    "X_test = X_test.reshape(X_test.shape[0], 784).astype('float32') / 255\n",
    "\n",
    "Y_train = np_utils.to_categorical(Y_train, 10)\n",
    "Y_test = np_utils.to_categorical(Y_test, 10)"
   ]
  },
  {
   "cell_type": "markdown",
   "id": "ac4732a7",
   "metadata": {},
   "source": [
    "- ** 모델 프레임 설정 **\n",
    "    - 784개의 속성, 10개의 클래스\n",
    "    - input_dim(입력값): 784개\n",
    "    - 은닉층: 512개\n",
    "    - 출력: 10개\n",
    "    - 활성화 함수\n",
    "        - 은닉층: relu\n",
    "        - 출력층: softmax\n",
    "    - 오차 함수: categorical_crossentropy\n",
    "    - 최적화 함수: adam"
   ]
  },
  {
   "cell_type": "code",
   "execution_count": 4,
   "id": "c338786e",
   "metadata": {},
   "outputs": [],
   "source": [
    "# 모델 프레임 설정\n",
    "model = Sequential()\n",
    "model.add(Dense(512, input_dim=784, activation='relu'))\n",
    "model.add(Dense(10, activation='softmax'))"
   ]
  },
  {
   "cell_type": "code",
   "execution_count": 5,
   "id": "e9205042",
   "metadata": {},
   "outputs": [],
   "source": [
    "# 모델 실행 환경 설정\n",
    "model.compile(loss='categorical_crossentropy',\n",
    "             optimizer='adam',\n",
    "             metrics=['accuracy'])"
   ]
  },
  {
   "cell_type": "code",
   "execution_count": 6,
   "id": "1b25c713",
   "metadata": {},
   "outputs": [],
   "source": [
    "# 모델 최적화 설정\n",
    "MODEL_DIR = './model_cnn/'\n",
    "if not os.path.exists(MODEL_DIR):\n",
    "    os.mkdir(MODEL_DIR)\n",
    "\n",
    "modelpath=\"./model_cnn/{epoch:02d}-{val_loss:4f}.hdf5\"\n",
    "checkpointer = ModelCheckpoint(filepath=modelpath, monitor='val_loss', verbose=1, save_best_only=True)\n",
    "early_stopping_callback = EarlyStopping(monitor='val_loss', patience=10)"
   ]
  },
  {
   "cell_type": "code",
   "execution_count": 7,
   "id": "62c7d047",
   "metadata": {},
   "outputs": [
    {
     "name": "stdout",
     "output_type": "stream",
     "text": [
      "\n",
      "Epoch 00001: val_loss improved from inf to 0.15504, saving model to ./model_cnn/01-0.155045.hdf5\n",
      "\n",
      "Epoch 00002: val_loss improved from 0.15504 to 0.10495, saving model to ./model_cnn/02-0.104946.hdf5\n",
      "\n",
      "Epoch 00003: val_loss improved from 0.10495 to 0.08422, saving model to ./model_cnn/03-0.084220.hdf5\n",
      "\n",
      "Epoch 00004: val_loss improved from 0.08422 to 0.07865, saving model to ./model_cnn/04-0.078650.hdf5\n",
      "\n",
      "Epoch 00005: val_loss improved from 0.07865 to 0.06742, saving model to ./model_cnn/05-0.067417.hdf5\n",
      "\n",
      "Epoch 00006: val_loss improved from 0.06742 to 0.06464, saving model to ./model_cnn/06-0.064643.hdf5\n",
      "\n",
      "Epoch 00007: val_loss did not improve from 0.06464\n",
      "\n",
      "Epoch 00008: val_loss improved from 0.06464 to 0.06284, saving model to ./model_cnn/08-0.062844.hdf5\n",
      "\n",
      "Epoch 00009: val_loss improved from 0.06284 to 0.05867, saving model to ./model_cnn/09-0.058672.hdf5\n",
      "\n",
      "Epoch 00010: val_loss did not improve from 0.05867\n",
      "\n",
      "Epoch 00011: val_loss did not improve from 0.05867\n",
      "\n",
      "Epoch 00012: val_loss did not improve from 0.05867\n",
      "\n",
      "Epoch 00013: val_loss did not improve from 0.05867\n",
      "\n",
      "Epoch 00014: val_loss did not improve from 0.05867\n",
      "\n",
      "Epoch 00015: val_loss did not improve from 0.05867\n",
      "\n",
      "Epoch 00016: val_loss did not improve from 0.05867\n",
      "\n",
      "Epoch 00017: val_loss did not improve from 0.05867\n",
      "\n",
      "Epoch 00018: val_loss did not improve from 0.05867\n",
      "\n",
      "Epoch 00019: val_loss did not improve from 0.05867\n",
      "10000/10000 [==============================] - 0s 28us/step\n",
      "\n",
      " Test Accuracy: 0.9806\n"
     ]
    }
   ],
   "source": [
    "# 모델의 실행\n",
    "history = model.fit(X_train, Y_train, validation_data=(X_test, Y_test), epochs=30, batch_size=200, verbose=0,\n",
    "                    callbacks=[early_stopping_callback, checkpointer])\n",
    "\n",
    "# 테스트 정확도 출력\n",
    "print(\"\\n Test Accuracy: %.4f\" % (model.evaluate(X_test, Y_test)[1]))"
   ]
  },
  {
   "cell_type": "code",
   "execution_count": 8,
   "id": "37b112b8",
   "metadata": {},
   "outputs": [],
   "source": [
    "# 테스트셋의 오차\n",
    "y_vloss = history.history['val_loss']\n",
    "\n",
    "# 학습셋의 오차\n",
    "y_loss = history.history['loss']"
   ]
  },
  {
   "cell_type": "code",
   "execution_count": 9,
   "id": "7971cff2",
   "metadata": {},
   "outputs": [
    {
     "data": {
      "image/png": "[encoded data removed]",
      "text/plain": [
       "<Figure size 432x288 with 1 Axes>"
      ]
     },
     "metadata": {
      "needs_background": "light"
     },
     "output_type": "display_data"
    }
   ],
   "source": [
    "# 그래프로 표현\n",
    "x_len = np.arange(len(y_loss))\n",
    "plt.plot(x_len, y_vloss, marker='.', c=\"red\", label='Testset_loss')\n",
    "plt.plot(x_len, y_loss, marker='.', c=\"blue\", label='Trainset_loss')\n",
    "\n",
    "# 그래프에 그리드를 주고 레이블을 표시\n",
    "plt.legend(loc='upper right')\n",
    "# plt.axis([0, 20, 0, 0.35])\n",
    "plt.grid()\n",
    "plt.xlabel('epoch')\n",
    "plt.ylabel('loss')\n",
    "plt.show()"
   ]
  },
  {
   "cell_type": "markdown",
   "id": "10506b21",
   "metadata": {},
   "source": [
    "#### 3. 더 깊은 딥러닝\n",
    "\n",
    "- Sequential() 딥러닝 모델의 도식화  \n",
    "\n",
    "    <img src=\"https://thebook.io/img/080228/227.jpg\" width=\"130\" align=\"left\">"
   ]
  }
 ],
 "metadata": {
  "kernelspec": {
   "display_name": "Python 3 (ipykernel)",
   "language": "python",
   "name": "python3"
  },
  "language_info": {
   "codemirror_mode": {
    "name": "ipython",
    "version": 3
   },
   "file_extension": ".py",
   "mimetype": "text/x-python",
   "name": "python",
   "nbconvert_exporter": "python",
   "pygments_lexer": "ipython3",
   "version": "3.7.11"
  }
 },
 "nbformat": 4,
 "nbformat_minor": 5
}
