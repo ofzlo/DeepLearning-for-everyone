{
 "cells": [
  {
   "cell_type": "markdown",
   "id": "496d203e",
   "metadata": {},
   "source": [
    "### 20장 전이 학습을 통해 딥러닝의 성능 극대화하기\n",
    "\n",
    "#### 2. 전이 학습으로 모델 성능 극대화하기\n",
    "- 전이 학습 방법   \n",
    "    1. 대규모 데이터 셋에서 학습된 기존의 네트워크를 불러옴   \n",
    "    2. CNN 모델의 앞쪽을 이 네트워크로 채움   \n",
    "    3. 뒤쪽 레이어에서 나의 프로젝트와 연결   \n",
    "    4. 두 네트워크가 잘 맞물리게끔 미세 조정(Fine Tuning)   \n",
    "    \n",
    "    <img src=\"https://thebook.io/img/080228/316.jpg\" width=\"400\" align=\"left\">    "
   ]
  },
  {
   "cell_type": "code",
   "execution_count": 1,
   "id": "922b629f",
   "metadata": {},
   "outputs": [],
   "source": [
    "import tensorflow as tf\n",
    "import numpy as np\n",
    "import matplotlib.pyplot as plt\n",
    "\n",
    "from tensorflow.keras.preprocessing.image import ImageDataGenerator\n",
    "from tensorflow.keras import Input, models, layers, optimizers, metrics\n",
    "from tensorflow.keras.layers import Dense, Flatten\n",
    "from tensorflow.keras.applications import VGG16"
   ]
  },
  {
   "cell_type": "code",
   "execution_count": 2,
   "id": "acf4978a",
   "metadata": {},
   "outputs": [],
   "source": [
    "np.random.seed(3)\n",
    "tf.compat.v1.set_random_seed(3)"
   ]
  },
  {
   "cell_type": "code",
   "execution_count": 3,
   "id": "c1851cb7",
   "metadata": {},
   "outputs": [
    {
     "name": "stdout",
     "output_type": "stream",
     "text": [
      "Found 160 images belonging to 2 classes.\n",
      "Found 120 images belonging to 2 classes.\n"
     ]
    }
   ],
   "source": [
    "train_datagen = ImageDataGenerator(rescale=1./255,\n",
    "                                  horizontal_flip=True,\n",
    "                                  width_shift_range=0.1,\n",
    "                                  height_shift_range=0.1,\n",
    "                                  fill_mode='nearest')\n",
    "\n",
    "train_generator = train_datagen.flow_from_directory('train',\n",
    "                                                   target_size=(150, 150),\n",
    "                                                   batch_size=5,\n",
    "                                                   class_mode='binary')\n",
    "\n",
    "test_datagen = ImageDataGenerator(rescale=1./255,\n",
    "                                 horizontal_flip=True,\n",
    "                                 width_shift_range=0.1,\n",
    "                                 height_shift_range=0.1,\n",
    "                                 fill_mode='nearest')\n",
    "\n",
    "test_generator = test_datagen.flow_from_directory('test',\n",
    "                                                 target_size=(150,150),\n",
    "                                                 batch_size=5,\n",
    "                                                 class_mode='binary')"
   ]
  },
  {
   "cell_type": "markdown",
   "id": "2d5205d2",
   "metadata": {},
   "source": [
    "- **```VGG16```**\n",
    "    - **include_top**: 분류를 담당하는 곳을 불러올지 말지를 정하는 옵션\n",
    "    \n",
    "    \n",
    "- ```transfer_model.trainable = False``` → **Trainable params: 0**"
   ]
  },
  {
   "cell_type": "code",
   "execution_count": 4,
   "id": "0b8902b4",
   "metadata": {},
   "outputs": [
    {
     "name": "stdout",
     "output_type": "stream",
     "text": [
      "Model: \"vgg16\"\n",
      "_________________________________________________________________\n",
      "Layer (type)                 Output Shape              Param #   \n",
      "=================================================================\n",
      "input_1 (InputLayer)         [(None, 150, 150, 3)]     0         \n",
      "_________________________________________________________________\n",
      "block1_conv1 (Conv2D)        (None, 150, 150, 64)      1792      \n",
      "_________________________________________________________________\n",
      "block1_conv2 (Conv2D)        (None, 150, 150, 64)      36928     \n",
      "_________________________________________________________________\n",
      "block1_pool (MaxPooling2D)   (None, 75, 75, 64)        0         \n",
      "_________________________________________________________________\n",
      "block2_conv1 (Conv2D)        (None, 75, 75, 128)       73856     \n",
      "_________________________________________________________________\n",
      "block2_conv2 (Conv2D)        (None, 75, 75, 128)       147584    \n",
      "_________________________________________________________________\n",
      "block2_pool (MaxPooling2D)   (None, 37, 37, 128)       0         \n",
      "_________________________________________________________________\n",
      "block3_conv1 (Conv2D)        (None, 37, 37, 256)       295168    \n",
      "_________________________________________________________________\n",
      "block3_conv2 (Conv2D)        (None, 37, 37, 256)       590080    \n",
      "_________________________________________________________________\n",
      "block3_conv3 (Conv2D)        (None, 37, 37, 256)       590080    \n",
      "_________________________________________________________________\n",
      "block3_pool (MaxPooling2D)   (None, 18, 18, 256)       0         \n",
      "_________________________________________________________________\n",
      "block4_conv1 (Conv2D)        (None, 18, 18, 512)       1180160   \n",
      "_________________________________________________________________\n",
      "block4_conv2 (Conv2D)        (None, 18, 18, 512)       2359808   \n",
      "_________________________________________________________________\n",
      "block4_conv3 (Conv2D)        (None, 18, 18, 512)       2359808   \n",
      "_________________________________________________________________\n",
      "block4_pool (MaxPooling2D)   (None, 9, 9, 512)         0         \n",
      "_________________________________________________________________\n",
      "block5_conv1 (Conv2D)        (None, 9, 9, 512)         2359808   \n",
      "_________________________________________________________________\n",
      "block5_conv2 (Conv2D)        (None, 9, 9, 512)         2359808   \n",
      "_________________________________________________________________\n",
      "block5_conv3 (Conv2D)        (None, 9, 9, 512)         2359808   \n",
      "_________________________________________________________________\n",
      "block5_pool (MaxPooling2D)   (None, 4, 4, 512)         0         \n",
      "=================================================================\n",
      "Total params: 14,714,688\n",
      "Trainable params: 0\n",
      "Non-trainable params: 14,714,688\n",
      "_________________________________________________________________\n"
     ]
    }
   ],
   "source": [
    "transfer_model = VGG16(weights='imagenet',\n",
    "                      include_top=False,\n",
    "                      input_shape=(150,150,3))\n",
    "transfer_model.trainable = False\n",
    "transfer_model.summary()"
   ]
  },
  {
   "cell_type": "code",
   "execution_count": 5,
   "id": "7f3b1ebf",
   "metadata": {},
   "outputs": [
    {
     "name": "stdout",
     "output_type": "stream",
     "text": [
      "Model: \"sequential\"\n",
      "_________________________________________________________________\n",
      "Layer (type)                 Output Shape              Param #   \n",
      "=================================================================\n",
      "vgg16 (Model)                (None, 4, 4, 512)         14714688  \n",
      "_________________________________________________________________\n",
      "flatten (Flatten)            (None, 8192)              0         \n",
      "_________________________________________________________________\n",
      "dense (Dense)                (None, 64)                524352    \n",
      "_________________________________________________________________\n",
      "dense_1 (Dense)              (None, 2)                 130       \n",
      "=================================================================\n",
      "Total params: 15,239,170\n",
      "Trainable params: 524,482\n",
      "Non-trainable params: 14,714,688\n",
      "_________________________________________________________________\n"
     ]
    }
   ],
   "source": [
    "'''\n",
    "앞서 넘겨받은 파라미터(14,714,688) 유지,\n",
    "최종 분류를 위해서만 새롭게 학습\n",
    "'''\n",
    "\n",
    "finetune_model = models.Sequential()\n",
    "finetune_model.add(transfer_model)\n",
    "finetune_model.add(Flatten())\n",
    "finetune_model.add(Dense(64, activation='relu'))\n",
    "finetune_model.add(Dense(2, activation='softmax'))\n",
    "finetune_model.summary()"
   ]
  },
  {
   "cell_type": "code",
   "execution_count": 6,
   "id": "0d268a94",
   "metadata": {},
   "outputs": [],
   "source": [
    "finetune_model.compile(loss='sparse_categorical_crossentropy',\n",
    "                      optimizer=optimizers.Adam(learning_rate=0.0002),\n",
    "                      metrics=['accuracy'])"
   ]
  },
  {
   "cell_type": "code",
   "execution_count": 7,
   "id": "b73cb985",
   "metadata": {},
   "outputs": [
    {
     "name": "stdout",
     "output_type": "stream",
     "text": [
      "Epoch 1/20\n",
      "100/100 [==============================] - 230s 2s/step - loss: 0.4950 - accuracy: 0.7800 - val_loss: 0.4372 - val_accuracy: 0.7500\n",
      "Epoch 2/20\n",
      "100/100 [==============================] - 243s 2s/step - loss: 0.2506 - accuracy: 0.9300 - val_loss: 0.3734 - val_accuracy: 0.8000\n",
      "Epoch 3/20\n",
      "100/100 [==============================] - 204s 2s/step - loss: 0.1797 - accuracy: 0.9520 - val_loss: 0.1887 - val_accuracy: 0.9500\n",
      "Epoch 4/20\n",
      "100/100 [==============================] - 202s 2s/step - loss: 0.1248 - accuracy: 0.9680 - val_loss: 0.1286 - val_accuracy: 0.9500\n",
      "Epoch 5/20\n",
      "100/100 [==============================] - 200s 2s/step - loss: 0.1156 - accuracy: 0.9700 - val_loss: 0.1568 - val_accuracy: 0.9500\n",
      "Epoch 6/20\n",
      "100/100 [==============================] - 204s 2s/step - loss: 0.0963 - accuracy: 0.9680 - val_loss: 0.2287 - val_accuracy: 0.8500\n",
      "Epoch 7/20\n",
      "100/100 [==============================] - 200s 2s/step - loss: 0.0827 - accuracy: 0.9740 - val_loss: 0.2247 - val_accuracy: 0.9000\n",
      "Epoch 8/20\n",
      "100/100 [==============================] - 209s 2s/step - loss: 0.0744 - accuracy: 0.9760 - val_loss: 0.1386 - val_accuracy: 0.9500\n",
      "Epoch 9/20\n",
      "100/100 [==============================] - 200s 2s/step - loss: 0.0623 - accuracy: 0.9820 - val_loss: 0.0806 - val_accuracy: 0.9500\n",
      "Epoch 10/20\n",
      "100/100 [==============================] - 197s 2s/step - loss: 0.0534 - accuracy: 0.9840 - val_loss: 0.1905 - val_accuracy: 0.9000\n",
      "Epoch 11/20\n",
      "100/100 [==============================] - 198s 2s/step - loss: 0.0586 - accuracy: 0.9780 - val_loss: 0.1504 - val_accuracy: 0.9500\n",
      "Epoch 12/20\n",
      "100/100 [==============================] - 198s 2s/step - loss: 0.0504 - accuracy: 0.9840 - val_loss: 0.1435 - val_accuracy: 0.9500\n",
      "Epoch 13/20\n",
      "100/100 [==============================] - 198s 2s/step - loss: 0.0448 - accuracy: 0.9860 - val_loss: 0.0836 - val_accuracy: 0.9500\n",
      "Epoch 14/20\n",
      "100/100 [==============================] - 197s 2s/step - loss: 0.0546 - accuracy: 0.9860 - val_loss: 0.0702 - val_accuracy: 1.0000\n",
      "Epoch 15/20\n",
      "100/100 [==============================] - 195s 2s/step - loss: 0.0505 - accuracy: 0.9840 - val_loss: 0.0703 - val_accuracy: 1.0000\n",
      "Epoch 16/20\n",
      "100/100 [==============================] - 197s 2s/step - loss: 0.0300 - accuracy: 0.9940 - val_loss: 0.2348 - val_accuracy: 0.9000\n",
      "Epoch 17/20\n",
      "100/100 [==============================] - 198s 2s/step - loss: 0.0311 - accuracy: 0.9940 - val_loss: 0.1023 - val_accuracy: 0.9500\n",
      "Epoch 18/20\n",
      "100/100 [==============================] - 222s 2s/step - loss: 0.0324 - accuracy: 0.9920 - val_loss: 0.0978 - val_accuracy: 0.9500\n",
      "Epoch 19/20\n",
      "100/100 [==============================] - 218s 2s/step - loss: 0.0279 - accuracy: 0.9960 - val_loss: 0.0735 - val_accuracy: 0.9500\n",
      "Epoch 20/20\n",
      "100/100 [==============================] - 218s 2s/step - loss: 0.0313 - accuracy: 0.9940 - val_loss: 0.2292 - val_accuracy: 0.9000\n"
     ]
    }
   ],
   "source": [
    "history = finetune_model.fit_generator(train_generator,\n",
    "                                      steps_per_epoch=100,\n",
    "                                      epochs=20,\n",
    "                                      validation_data=test_generator,\n",
    "                                      validation_steps=4)"
   ]
  },
  {
   "cell_type": "code",
   "execution_count": 8,
   "id": "4da61f9f",
   "metadata": {},
   "outputs": [],
   "source": [
    "acc = history.history['accuracy']\n",
    "val_acc = history.history['val_accuracy']\n",
    "y_vloss = history.history['val_loss']\n",
    "y_loss = history.history['loss']"
   ]
  },
  {
   "cell_type": "code",
   "execution_count": 9,
   "id": "b8a15cea",
   "metadata": {},
   "outputs": [
    {
     "data": {
      "image/png": "[encoded data removed]",
      "text/plain": [
       "<Figure size 432x288 with 1 Axes>"
      ]
     },
     "metadata": {
      "needs_background": "light"
     },
     "output_type": "display_data"
    }
   ],
   "source": [
    "# 그래프로 표현\n",
    "x_len = np.arange(len(y_loss))\n",
    "plt.plot(x_len, acc, marker='.', c=\"red\", label='Trainset_acc')\n",
    "plt.plot(x_len, val_acc, marker='.', c=\"lightcoral\", label='Testset_acc')\n",
    "plt.plot(x_len, y_vloss, marker='.', c=\"cornflowerblue\", label='Testset_loss')\n",
    "plt.plot(x_len, y_loss, marker='.', c=\"blue\", label='Trainset_loss')\n",
    "\n",
    "# 그래프에 그리드를 주고 레이블을 표시\n",
    "plt.legend(loc='upper right')\n",
    "plt.grid()\n",
    "plt.xlabel('epoch')\n",
    "plt.ylabel('loss/acc')\n",
    "plt.show()"
   ]
  }
 ],
 "metadata": {
  "kernelspec": {
   "display_name": "Python 3 (ipykernel)",
   "language": "python",
   "name": "python3"
  },
  "language_info": {
   "codemirror_mode": {
    "name": "ipython",
    "version": 3
   },
   "file_extension": ".py",
   "mimetype": "text/x-python",
   "name": "python",
   "nbconvert_exporter": "python",
   "pygments_lexer": "ipython3",
   "version": "3.7.11"
  }
 },
 "nbformat": 4,
 "nbformat_minor": 5
}
