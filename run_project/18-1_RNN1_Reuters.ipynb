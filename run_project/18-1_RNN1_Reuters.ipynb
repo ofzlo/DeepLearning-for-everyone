{
 "cells": [
  {
   "cell_type": "markdown",
   "id": "e5cc4805",
   "metadata": {},
   "source": [
    "### 18장 시퀀스 배열로 다루는 순환 신경망(RNN)\n",
    "\n",
    "- **```순환신경망(Recurrent Neural Network, RNN)```**\n",
    "    - 등장배경: 과거에 입력된 데이터와 후에 입력된 데이터 사이의 관계 고려의 필요성\n",
    "    - 앞서 입력받은 데이터 잠시 기억 → 얼마나 중요한지 판단 후 별도의 가중치 지정 → 다음 데이터\n",
    "    - **```LSTM(Long Short Term Memory)```**: 기울기 소실 문제 보완   \n",
    "    \n",
    "        <img src=\"https://thebook.io/img/080228/262_1.jpg\" width=\"600\" align=\"left\">   \n",
    "\n",
    "#  \n",
    "#  \n",
    "#  \n",
    "#  \n",
    "#  \n",
    "###   \n",
    "\n",
    "- RNN 장점: 입력 및 출력 값 설정에 따라 여러 가지 상황에서 적용 가능\n",
    "    \n",
    "① 다수 입력 단일 출력\n",
    "    \n",
    "<img src=\"https://thebook.io/img/080228/262_2.jpg\" width=\"500\" align=\"left\">\n",
    "    \n",
    "#\n",
    "#  \n",
    "#  \n",
    "#  \n",
    "#  \n",
    "#  \n",
    "#  \n",
    "###   \n",
    "    \n",
    "② 단일 입력 다수 출력\n",
    "    \n",
    "<img src=\"https://thebook.io/img/080228/263_1.jpg\" width=\"500\" align=\"left\">"
   ]
  },
  {
   "cell_type": "markdown",
   "id": "9a63b549",
   "metadata": {},
   "source": [
    "#### 1. LSTM을 이용한 로이터 뉴스 카테고리 분류하기"
   ]
  },
  {
   "cell_type": "code",
   "execution_count": 1,
   "id": "1104d796",
   "metadata": {},
   "outputs": [],
   "source": [
    "from keras.datasets import reuters\n",
    "from keras.models import Sequential\n",
    "from keras.layers import Dense, LSTM, Embedding\n",
    "from keras.preprocessing import sequence\n",
    "from keras.utils import np_utils\n",
    "\n",
    "import numpy as np\n",
    "import tensorflow as tf\n",
    "import matplotlib.pyplot as plt"
   ]
  },
  {
   "cell_type": "code",
   "execution_count": 2,
   "id": "c0496b90",
   "metadata": {},
   "outputs": [],
   "source": [
    "# seed 값 설정\n",
    "seed = 0\n",
    "np.random.seed(seed)\n",
    "tf.random.set_seed(3)"
   ]
  },
  {
   "cell_type": "code",
   "execution_count": 3,
   "id": "d41f62f2",
   "metadata": {},
   "outputs": [
    {
     "name": "stdout",
     "output_type": "stream",
     "text": [
      "Downloading data from https://s3.amazonaws.com/text-datasets/reuters.npz\n",
      "2113536/2110848 [==============================] - 6s 3us/step\n"
     ]
    },
    {
     "name": "stderr",
     "output_type": "stream",
     "text": [
      "C:\\Users\\abcd2\\anaconda3\\envs\\py37\\lib\\site-packages\\keras\\datasets\\reuters.py:85: VisibleDeprecationWarning: Creating an ndarray from ragged nested sequences (which is a list-or-tuple of lists-or-tuples-or ndarrays with different lengths or shapes) is deprecated. If you meant to do this, you must specify 'dtype=object' when creating the ndarray.\n",
      "  x_train, y_train = np.array(xs[:idx]), np.array(labels[:idx])\n",
      "C:\\Users\\abcd2\\anaconda3\\envs\\py37\\lib\\site-packages\\keras\\datasets\\reuters.py:86: VisibleDeprecationWarning: Creating an ndarray from ragged nested sequences (which is a list-or-tuple of lists-or-tuples-or ndarrays with different lengths or shapes) is deprecated. If you meant to do this, you must specify 'dtype=object' when creating the ndarray.\n",
      "  x_test, y_test = np.array(xs[idx:]), np.array(labels[idx:])\n"
     ]
    }
   ],
   "source": [
    "# 불러온 데이터를 학습셋과 테스트셋으로 나누기\n",
    "(X_train, Y_train), (X_test, Y_test) = reuters.load_data(num_words=1000, test_split=0.2)"
   ]
  },
  {
   "cell_type": "code",
   "execution_count": 5,
   "id": "881de91d",
   "metadata": {},
   "outputs": [
    {
     "name": "stdout",
     "output_type": "stream",
     "text": [
      "46 카테고리\n",
      "8982 학습용 뉴스 기사\n",
      "2246 테스트용 뉴스 기사\n",
      "[1, 2, 2, 8, 43, 10, 447, 5, 25, 207, 270, 5, 2, 111, 16, 369, 186, 90, 67, 7, 89, 5, 19, 102, 6, 19, 124, 15, 90, 67, 84, 22, 482, 26, 7, 48, 4, 49, 8, 864, 39, 209, 154, 6, 151, 6, 83, 11, 15, 22, 155, 11, 15, 7, 48, 9, 2, 2, 504, 6, 258, 6, 272, 11, 15, 22, 134, 44, 11, 15, 16, 8, 197, 2, 90, 67, 52, 29, 209, 30, 32, 132, 6, 109, 15, 17, 12]\n"
     ]
    }
   ],
   "source": [
    "# 데이터 확인하기\n",
    "category = np.max(Y_train) + 1 # 0부터 세기 때문에 1을 더함\n",
    "print(category, '카테고리')\n",
    "print(len(X_train), '학습용 뉴스 기사')\n",
    "print(len(X_test), '테스트용 뉴스 기사')\n",
    "print(X_train[0])"
   ]
  },
  {
   "cell_type": "code",
   "execution_count": 6,
   "id": "05250470",
   "metadata": {},
   "outputs": [],
   "source": [
    "# 데이터 전처리\n",
    "x_train = sequence.pad_sequences(X_train, maxlen=100)\n",
    "x_test = sequence.pad_sequences(X_test, maxlen=100)\n",
    "y_train = np_utils.to_categorical(Y_train)\n",
    "y_test = np_utils.to_categorical(Y_test)"
   ]
  },
  {
   "cell_type": "code",
   "execution_count": 7,
   "id": "9a09ae92",
   "metadata": {},
   "outputs": [],
   "source": [
    "# 모델의 설정\n",
    "model = Sequential()\n",
    "model.add(Embedding(1000, 100))\n",
    "model.add(LSTM(100, activation='tanh'))\n",
    "model.add(Dense(46, activation='softmax'))"
   ]
  },
  {
   "cell_type": "code",
   "execution_count": 8,
   "id": "b14fb828",
   "metadata": {},
   "outputs": [],
   "source": [
    "# 모델의 컴파일\n",
    "model.compile(loss='categorical_crossentropy',\n",
    "             optimizer='adam',\n",
    "             metrics=['accuracy'])"
   ]
  },
  {
   "cell_type": "code",
   "execution_count": 9,
   "id": "646aba0d",
   "metadata": {},
   "outputs": [
    {
     "name": "stderr",
     "output_type": "stream",
     "text": [
      "C:\\Users\\abcd2\\anaconda3\\envs\\py37\\lib\\site-packages\\tensorflow_core\\python\\framework\\indexed_slices.py:424: UserWarning: Converting sparse IndexedSlices to a dense Tensor of unknown shape. This may consume a large amount of memory.\n",
      "  \"Converting sparse IndexedSlices to a dense Tensor of unknown shape. \"\n"
     ]
    },
    {
     "name": "stdout",
     "output_type": "stream",
     "text": [
      "Train on 8982 samples, validate on 2246 samples\n",
      "Epoch 1/20\n",
      "8982/8982 [==============================] - 22s 3ms/step - loss: 2.5410 - accuracy: 0.3741 - val_loss: 2.0273 - val_accuracy: 0.4929\n",
      "Epoch 2/20\n",
      "8982/8982 [==============================] - 24s 3ms/step - loss: 1.9301 - accuracy: 0.4969 - val_loss: 1.8327 - val_accuracy: 0.5294\n",
      "Epoch 3/20\n",
      "8982/8982 [==============================] - 24s 3ms/step - loss: 1.7637 - accuracy: 0.5381 - val_loss: 1.7453 - val_accuracy: 0.5436\n",
      "Epoch 4/20\n",
      "8982/8982 [==============================] - 24s 3ms/step - loss: 1.6826 - accuracy: 0.5617 - val_loss: 1.7049 - val_accuracy: 0.5744\n",
      "Epoch 5/20\n",
      "8982/8982 [==============================] - 24s 3ms/step - loss: 1.6043 - accuracy: 0.5898 - val_loss: 1.6180 - val_accuracy: 0.5886\n",
      "Epoch 6/20\n",
      "8982/8982 [==============================] - 24s 3ms/step - loss: 1.4791 - accuracy: 0.6219 - val_loss: 1.4859 - val_accuracy: 0.6278\n",
      "Epoch 7/20\n",
      "8982/8982 [==============================] - 25s 3ms/step - loss: 1.3434 - accuracy: 0.6549 - val_loss: 1.4305 - val_accuracy: 0.6318\n",
      "Epoch 8/20\n",
      "8982/8982 [==============================] - 24s 3ms/step - loss: 1.2591 - accuracy: 0.6766 - val_loss: 1.3854 - val_accuracy: 0.6487\n",
      "Epoch 9/20\n",
      "8982/8982 [==============================] - 25s 3ms/step - loss: 1.1835 - accuracy: 0.6968 - val_loss: 1.3066 - val_accuracy: 0.6768\n",
      "Epoch 10/20\n",
      "8982/8982 [==============================] - 25s 3ms/step - loss: 1.1047 - accuracy: 0.7179 - val_loss: 1.2627 - val_accuracy: 0.6879\n",
      "Epoch 11/20\n",
      "8982/8982 [==============================] - 26s 3ms/step - loss: 1.0585 - accuracy: 0.7330 - val_loss: 1.2755 - val_accuracy: 0.6834\n",
      "Epoch 12/20\n",
      "8982/8982 [==============================] - 24s 3ms/step - loss: 0.9968 - accuracy: 0.7458 - val_loss: 1.2306 - val_accuracy: 0.6910\n",
      "Epoch 13/20\n",
      "8982/8982 [==============================] - 25s 3ms/step - loss: 0.9629 - accuracy: 0.7528 - val_loss: 1.2604 - val_accuracy: 0.6915\n",
      "Epoch 14/20\n",
      "8982/8982 [==============================] - 24s 3ms/step - loss: 0.9334 - accuracy: 0.7616 - val_loss: 1.2265 - val_accuracy: 0.7061\n",
      "Epoch 15/20\n",
      "8982/8982 [==============================] - 24s 3ms/step - loss: 0.8841 - accuracy: 0.7757 - val_loss: 1.2151 - val_accuracy: 0.7097\n",
      "Epoch 16/20\n",
      "8982/8982 [==============================] - 24s 3ms/step - loss: 0.8389 - accuracy: 0.7874 - val_loss: 1.1913 - val_accuracy: 0.7084\n",
      "Epoch 17/20\n",
      "8982/8982 [==============================] - 24s 3ms/step - loss: 0.8109 - accuracy: 0.7904 - val_loss: 1.1952 - val_accuracy: 0.7142\n",
      "Epoch 18/20\n",
      "8982/8982 [==============================] - 24s 3ms/step - loss: 0.7776 - accuracy: 0.8010 - val_loss: 1.1857 - val_accuracy: 0.7195\n",
      "Epoch 19/20\n",
      "8982/8982 [==============================] - 25s 3ms/step - loss: 0.7370 - accuracy: 0.8126 - val_loss: 1.2057 - val_accuracy: 0.7115\n",
      "Epoch 20/20\n",
      "8982/8982 [==============================] - 25s 3ms/step - loss: 0.7225 - accuracy: 0.8161 - val_loss: 1.2468 - val_accuracy: 0.7012\n",
      "2246/2246 [==============================] - 2s 679us/step\n",
      "\n",
      " Test Accuracy: 0.7012\n"
     ]
    }
   ],
   "source": [
    "# 모델의 실행\n",
    "history = model.fit(x_train, y_train, batch_size=100, epochs=20, validation_data=(x_test, y_test))\n",
    "\n",
    "# 테스트 정확도 출력\n",
    "print(\"\\n Test Accuracy: %.4f\" % (model.evaluate(x_test, y_test)[1]))"
   ]
  },
  {
   "cell_type": "code",
   "execution_count": 12,
   "id": "f22d330e",
   "metadata": {},
   "outputs": [
    {
     "data": {
      "image/png": "[encoded data removed]",
      "text/plain": [
       "<Figure size 432x288 with 1 Axes>"
      ]
     },
     "metadata": {
      "needs_background": "light"
     },
     "output_type": "display_data"
    }
   ],
   "source": [
    "# 테스트셋의 오차\n",
    "y_vloss = history.history['val_loss']\n",
    "\n",
    "# 학습셋의 오차\n",
    "y_loss = history.history['loss']\n",
    "\n",
    "# 그래프로 표현\n",
    "x_len = np.arange(len(y_loss))\n",
    "plt.plot(x_len, y_vloss, marker='.', c=\"red\", label='Testset_loss')\n",
    "plt.plot(x_len, y_loss, marker='.', c=\"blue\", label='Trainset_loss')\n",
    "\n",
    "# 그래프에 그리드를 추가하고 레이블을 표시\n",
    "plt.legend(loc='upper right')\n",
    "plt.grid()\n",
    "plt.xlabel('epoch')\n",
    "plt.ylabel('loss')\n",
    "plt.show()"
   ]
  }
 ],
 "metadata": {
  "kernelspec": {
   "display_name": "Python 3 (ipykernel)",
   "language": "python",
   "name": "python3"
  },
  "language_info": {
   "codemirror_mode": {
    "name": "ipython",
    "version": 3
   },
   "file_extension": ".py",
   "mimetype": "text/x-python",
   "name": "python",
   "nbconvert_exporter": "python",
   "pygments_lexer": "ipython3",
   "version": "3.7.11"
  }
 },
 "nbformat": 4,
 "nbformat_minor": 5
}
