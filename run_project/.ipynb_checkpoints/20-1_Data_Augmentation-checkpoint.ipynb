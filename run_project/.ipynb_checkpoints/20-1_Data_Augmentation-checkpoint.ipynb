{
 "cells": [
  {
   "cell_type": "markdown",
   "id": "95687dc5",
   "metadata": {},
   "source": [
    "### 20장 전이 학습을 통해 딥러닝의 성능 극대화하기\n",
    "\n",
    "- 데이터 양이 충분하지 않을 때 활용할 수 있는 방법\n",
    "- **```전이학습(Transfer Leaerning)```** : 기존의 이미지에서 학습한 정보를 가져와 프로젝트에 활용하는 것\n",
    "\n",
    "#### 1. 소규모 데이터셋으로 만드는 강력한 학습 모델\n",
    "- 딥러닝 및 머신러닝 알고리즘의 큰 2가지 유형  \n",
    "    1. 지도 학습(supervised learning) 방식   \n",
    "        : '클래스'라는 정답을 주고 시작하는 것 (ex. CNN, MNIST 분류 …)\n",
    "    2. 비지도 학습(unsupervised learning) 방식  \n",
    "        : 주어진 데이터의 특성을 찾는 것(ex. GAN, AE …)"
   ]
  },
  {
   "cell_type": "markdown",
   "id": "d97b8563",
   "metadata": {},
   "source": [
    "#### 치매 환자의 뇌인지 일반인의 뇌인지 예측하기\n",
    "\n",
    "- **```ImageDataGenerator()```** : 주어진 데이터를 이용해 변형된 이미지를 만들어 학습셋에 포함시킴\n",
    "    - **rescale**: 주어진 이미지 크기를 바꾸어 줌.\n",
    "    - **horizontal_flip, vertical_flip**: 주어진 이미지를 수평 또는 수직으로 뒤집는다.\n",
    "    - **zoom_range**: 정해진 범위 안에서 축소 또는 확대\n",
    "    - **width_shift, height_shift**: 정해진 범위 안에서 그림을 수평 또는 수직으로 랜덤하게 평행 이동\n",
    "    - **rotation_range**: 정해진 각도만큼 이미지 회전\n",
    "    - **shear_range**: 좌표 하나를 고정시키고 다른 몇 개의 좌표를 이동\n",
    "    - **fill_mode**: 이미지를 축소 또는 회전하거나 이동할 때 생기는 빈 공간을 어떻게 채울지 결정\n",
    "        - nearest 옵션: 가장 비슷한 색으로 채워짐\n",
    "    - 모든 인자를 적용하면 불필요한 데이터를 만들게 되어 오히려 학습 시간↑\n",
    "- **```flow_from_directory()```**: 이미지 불러오는 함수\n",
    "- **```fit_generator()```**: 실행 함수"
   ]
  },
  {
   "cell_type": "code",
   "execution_count": 1,
   "id": "c5dd887d",
   "metadata": {},
   "outputs": [],
   "source": [
    "import tensorflow as tf\n",
    "import numpy as np\n",
    "import matplotlib.pyplot as plt\n",
    "\n",
    "from tensorflow.keras.models import Sequential\n",
    "from tensorflow.keras.layers import Dense, Activation, Dropout, Flatten, Dense, Conv2D, MaxPooling2D\n",
    "from tensorflow.keras.preprocessing.image import ImageDataGenerator\n",
    "from tensorflow.keras import optimizers, initializers, regularizers, metrics"
   ]
  },
  {
   "cell_type": "code",
   "execution_count": 2,
   "id": "87a7a0ee",
   "metadata": {},
   "outputs": [],
   "source": [
    "np.random.seed(3)\n",
    "tf.random.set_seed(3)"
   ]
  },
  {
   "cell_type": "code",
   "execution_count": 3,
   "id": "d99cf520",
   "metadata": {},
   "outputs": [
    {
     "name": "stdout",
     "output_type": "stream",
     "text": [
      "Found 160 images belonging to 2 classes.\n"
     ]
    }
   ],
   "source": [
    "train_datagen = ImageDataGenerator(rescale=1./255,\n",
    "                                  horizontal_flip=True,     # 수평 대칭 이미지를 50% 확률로 만들어 추가\n",
    "                                  width_shift_range=0.1,    # 전체 크기의 10% 범위에서 좌우로 이동\n",
    "                                  height_shift_range=0.1,   # 마찬가지로 위아래로 이동 \n",
    "                                  fill_mode='nearest')\n",
    "\n",
    "train_generator = train_datagen.flow_from_directory(\n",
    "    './train',               # 학습셋이 있는 폴더 위치\n",
    "    target_size=(150,150),\n",
    "    batch_size=5,\n",
    "    class_mode='binary')"
   ]
  },
  {
   "cell_type": "code",
   "execution_count": 5,
   "id": "5989e712",
   "metadata": {},
   "outputs": [
    {
     "name": "stdout",
     "output_type": "stream",
     "text": [
      "Found 120 images belonging to 2 classes.\n"
     ]
    }
   ],
   "source": [
    "# 테스트셋은 이미지 부풀리기 과정을 진행하지 않음\n",
    "test_datagen = ImageDataGenerator(rescale=1./255)\n",
    "\n",
    "test_generator = test_datagen.flow_from_directory(\n",
    "    './test',\n",
    "    target_size=(150, 150),\n",
    "    batch_size=5,\n",
    "    class_mode='binary')"
   ]
  },
  {
   "cell_type": "code",
   "execution_count": 6,
   "id": "6511f413",
   "metadata": {},
   "outputs": [],
   "source": [
    "# 앞서 배운 CNN 모델 만들어 적용하기\n",
    "model = Sequential()\n",
    "model.add(Conv2D(32, (3, 3), input_shape=(150, 150, 3)))\n",
    "model.add(Activation('relu'))\n",
    "model.add(MaxPooling2D(pool_size=(2,2)))\n",
    "\n",
    "model.add(Conv2D(32, (3,3)))\n",
    "model.add(Activation('relu'))\n",
    "model.add(MaxPooling2D(pool_size=(2,2)))\n",
    "\n",
    "model.add(Conv2D(64, (3,3)))\n",
    "model.add(Activation('relu'))\n",
    "model.add(MaxPooling2D(pool_size=(2,2)))\n",
    "\n",
    "model.add(Flatten())\n",
    "model.add(Dense(64))\n",
    "model.add(Activation('relu'))\n",
    "model.add(Dropout(0.5))\n",
    "model.add(Dense(2))\n",
    "model.add(Activation('softmax'))"
   ]
  },
  {
   "cell_type": "code",
   "execution_count": 7,
   "id": "1a6a39ae",
   "metadata": {},
   "outputs": [
    {
     "name": "stdout",
     "output_type": "stream",
     "text": [
      "Model: \"sequential\"\n",
      "_________________________________________________________________\n",
      "Layer (type)                 Output Shape              Param #   \n",
      "=================================================================\n",
      "conv2d (Conv2D)              (None, 148, 148, 32)      896       \n",
      "_________________________________________________________________\n",
      "activation (Activation)      (None, 148, 148, 32)      0         \n",
      "_________________________________________________________________\n",
      "max_pooling2d (MaxPooling2D) (None, 74, 74, 32)        0         \n",
      "_________________________________________________________________\n",
      "conv2d_1 (Conv2D)            (None, 72, 72, 32)        9248      \n",
      "_________________________________________________________________\n",
      "activation_1 (Activation)    (None, 72, 72, 32)        0         \n",
      "_________________________________________________________________\n",
      "max_pooling2d_1 (MaxPooling2 (None, 36, 36, 32)        0         \n",
      "_________________________________________________________________\n",
      "conv2d_2 (Conv2D)            (None, 34, 34, 64)        18496     \n",
      "_________________________________________________________________\n",
      "activation_2 (Activation)    (None, 34, 34, 64)        0         \n",
      "_________________________________________________________________\n",
      "max_pooling2d_2 (MaxPooling2 (None, 17, 17, 64)        0         \n",
      "_________________________________________________________________\n",
      "flatten (Flatten)            (None, 18496)             0         \n",
      "_________________________________________________________________\n",
      "dense (Dense)                (None, 64)                1183808   \n",
      "_________________________________________________________________\n",
      "activation_3 (Activation)    (None, 64)                0         \n",
      "_________________________________________________________________\n",
      "dropout (Dropout)            (None, 64)                0         \n",
      "_________________________________________________________________\n",
      "dense_1 (Dense)              (None, 2)                 130       \n",
      "_________________________________________________________________\n",
      "activation_4 (Activation)    (None, 2)                 0         \n",
      "=================================================================\n",
      "Total params: 1,212,578\n",
      "Trainable params: 1,212,578\n",
      "Non-trainable params: 0\n",
      "_________________________________________________________________\n"
     ]
    }
   ],
   "source": [
    "model.summary()"
   ]
  },
  {
   "cell_type": "code",
   "execution_count": 8,
   "id": "7c88a1e8",
   "metadata": {},
   "outputs": [],
   "source": [
    "# 모델 컴파일\n",
    "model.compile(loss='sparse_categorical_crossentropy',\n",
    "             optimizer=optimizers.Adam(learning_rate=0.0002),\n",
    "             metrics=['accuracy'])"
   ]
  },
  {
   "cell_type": "code",
   "execution_count": 9,
   "id": "e53976fa",
   "metadata": {},
   "outputs": [
    {
     "name": "stdout",
     "output_type": "stream",
     "text": [
      "Epoch 1/20\n",
      "100/100 [==============================] - 13s 126ms/step - loss: 0.6871 - accuracy: 0.5620 - val_loss: 0.6710 - val_accuracy: 0.8500\n",
      "Epoch 2/20\n",
      "100/100 [==============================] - 14s 143ms/step - loss: 0.6647 - accuracy: 0.6080 - val_loss: 0.6226 - val_accuracy: 0.7500\n",
      "Epoch 3/20\n",
      "100/100 [==============================] - 14s 142ms/step - loss: 0.5716 - accuracy: 0.7140 - val_loss: 0.5461 - val_accuracy: 0.7500\n",
      "Epoch 4/20\n",
      "100/100 [==============================] - 14s 138ms/step - loss: 0.4385 - accuracy: 0.8120 - val_loss: 0.3018 - val_accuracy: 0.9500\n",
      "Epoch 5/20\n",
      "100/100 [==============================] - 14s 139ms/step - loss: 0.2885 - accuracy: 0.8860 - val_loss: 0.0933 - val_accuracy: 1.0000\n",
      "Epoch 6/20\n",
      "100/100 [==============================] - 14s 137ms/step - loss: 0.2239 - accuracy: 0.9200 - val_loss: 0.1239 - val_accuracy: 0.9500\n",
      "Epoch 7/20\n",
      "100/100 [==============================] - 14s 137ms/step - loss: 0.1816 - accuracy: 0.9360 - val_loss: 0.1332 - val_accuracy: 0.9500\n",
      "Epoch 8/20\n",
      "100/100 [==============================] - 14s 138ms/step - loss: 0.1707 - accuracy: 0.9480 - val_loss: 0.0826 - val_accuracy: 1.0000\n",
      "Epoch 9/20\n",
      "100/100 [==============================] - 14s 141ms/step - loss: 0.1011 - accuracy: 0.9720 - val_loss: 0.0671 - val_accuracy: 0.9500\n",
      "Epoch 10/20\n",
      "100/100 [==============================] - 14s 137ms/step - loss: 0.1483 - accuracy: 0.9460 - val_loss: 0.0633 - val_accuracy: 1.0000\n",
      "Epoch 11/20\n",
      "100/100 [==============================] - 14s 137ms/step - loss: 0.0920 - accuracy: 0.9680 - val_loss: 0.0630 - val_accuracy: 0.9500\n",
      "Epoch 12/20\n",
      "100/100 [==============================] - 14s 138ms/step - loss: 0.1249 - accuracy: 0.9640 - val_loss: 0.0387 - val_accuracy: 1.0000\n",
      "Epoch 13/20\n",
      "100/100 [==============================] - 14s 137ms/step - loss: 0.0631 - accuracy: 0.9780 - val_loss: 0.0827 - val_accuracy: 0.9500\n",
      "Epoch 14/20\n",
      "100/100 [==============================] - 14s 138ms/step - loss: 0.1039 - accuracy: 0.9600 - val_loss: 0.0529 - val_accuracy: 1.0000\n",
      "Epoch 15/20\n",
      "100/100 [==============================] - 14s 140ms/step - loss: 0.0758 - accuracy: 0.9820 - val_loss: 0.0425 - val_accuracy: 1.0000\n",
      "Epoch 16/20\n",
      "100/100 [==============================] - 14s 138ms/step - loss: 0.0659 - accuracy: 0.9820 - val_loss: 0.0508 - val_accuracy: 0.9500\n",
      "Epoch 17/20\n",
      "100/100 [==============================] - 14s 139ms/step - loss: 0.0608 - accuracy: 0.9740 - val_loss: 0.0465 - val_accuracy: 1.0000\n",
      "Epoch 18/20\n",
      "100/100 [==============================] - 14s 137ms/step - loss: 0.0756 - accuracy: 0.9740 - val_loss: 0.0817 - val_accuracy: 0.9500\n",
      "Epoch 19/20\n",
      "100/100 [==============================] - 14s 138ms/step - loss: 0.0411 - accuracy: 0.9860 - val_loss: 0.0309 - val_accuracy: 1.0000\n",
      "Epoch 20/20\n",
      "100/100 [==============================] - 14s 139ms/step - loss: 0.0721 - accuracy: 0.9680 - val_loss: 0.0289 - val_accuracy: 1.0000\n"
     ]
    }
   ],
   "source": [
    "# 모델 실행\n",
    "history = model.fit_generator(\n",
    "    train_generator,\n",
    "    steps_per_epoch=100,\n",
    "    epochs=20,\n",
    "    validation_data=test_generator,\n",
    "    validation_steps=4\n",
    ")"
   ]
  },
  {
   "cell_type": "code",
   "execution_count": 12,
   "id": "a38d36a7",
   "metadata": {},
   "outputs": [
    {
     "data": {
      "image/png": "[encoded data removed]",
      "text/plain": [
       "<Figure size 432x288 with 1 Axes>"
      ]
     },
     "metadata": {
      "needs_background": "light"
     },
     "output_type": "display_data"
    }
   ],
   "source": [
    "# 결과를 그래프로 표현하는 부분\n",
    "acc = history.history['accuracy']\n",
    "val_acc = history.history['val_accuracy']\n",
    "y_vloss = history.history['val_loss']\n",
    "y_loss = history.history['loss']\n",
    "x_len = np.arange(len(y_loss))\n",
    "\n",
    "plt.plot(x_len, acc, marker='.', c=\"red\", label='Trainset_acc')\n",
    "plt.plot(x_len, val_acc, marker='.', c=\"lightcoral\", label='Testset_acc')\n",
    "plt.plot(x_len, y_vloss, marker='.', c=\"cornflowerblue\", label='Testset_loss')\n",
    "plt.plot(x_len, y_loss, marker='.', c=\"blue\", label='Trainset_loss')\n",
    "\n",
    "plt.legend(loc='upper right')\n",
    "plt.grid()\n",
    "plt.xlabel('epoch')\n",
    "plt.ylabel('loss/acc')\n",
    "plt.show()"
   ]
  }
 ],
 "metadata": {
  "kernelspec": {
   "display_name": "Python 3 (ipykernel)",
   "language": "python",
   "name": "python3"
  },
  "language_info": {
   "codemirror_mode": {
    "name": "ipython",
    "version": 3
   },
   "file_extension": ".py",
   "mimetype": "text/x-python",
   "name": "python",
   "nbconvert_exporter": "python",
   "pygments_lexer": "ipython3",
   "version": "3.7.11"
  }
 },
 "nbformat": 4,
 "nbformat_minor": 5
}
